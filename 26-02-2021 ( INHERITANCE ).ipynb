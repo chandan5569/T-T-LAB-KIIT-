{
 "cells": [
  {
   "cell_type": "markdown",
   "metadata": {},
   "source": [
    "# 1828236 CHANDAN KUMAR SINGH"
   ]
  },
  {
   "cell_type": "markdown",
   "metadata": {},
   "source": [
    "## Inheritance"
   ]
  },
  {
   "cell_type": "markdown",
   "metadata": {},
   "source": [
    "#### Single Inheritance"
   ]
  },
  {
   "cell_type": "code",
   "execution_count": 5,
   "metadata": {},
   "outputs": [
    {
     "name": "stdout",
     "output_type": "stream",
     "text": [
      "chandan\n",
      "singh\n"
     ]
    }
   ],
   "source": [
    "class parent():\n",
    "    def par(self):\n",
    "        print(\"chandan\")\n",
    "        \n",
    "class child(parent):\n",
    "    def chi(self):\n",
    "        print('singh')\n",
    "        \n",
    "beta=child()\n",
    "beta.par()\n",
    "beta.chi()"
   ]
  },
  {
   "cell_type": "markdown",
   "metadata": {},
   "source": [
    "#### Multilevel"
   ]
  },
  {
   "cell_type": "code",
   "execution_count": 6,
   "metadata": {},
   "outputs": [
    {
     "name": "stdout",
     "output_type": "stream",
     "text": [
      "chandan\n",
      "kumar\n",
      "singh\n"
     ]
    }
   ],
   "source": [
    "class pehla():\n",
    "    def bula(self):\n",
    "        print('chandan')\n",
    "class dusra(pehla):\n",
    "    def bul(self):\n",
    "        print('kumar')\n",
    "class tisra(dusra):\n",
    "    def bulu(self):\n",
    "        print('singh')\n",
    "\n",
    "op=tisra()\n",
    "op.bula()\n",
    "op.bul()\n",
    "op.bulu()"
   ]
  },
  {
   "cell_type": "markdown",
   "metadata": {},
   "source": [
    "#### Multiple Inheritance"
   ]
  },
  {
   "cell_type": "code",
   "execution_count": 7,
   "metadata": {},
   "outputs": [
    {
     "name": "stdout",
     "output_type": "stream",
     "text": [
      "chandan\n",
      "kumar\n",
      "singh\n"
     ]
    }
   ],
   "source": [
    "class pehla():\n",
    "    def bula(self):\n",
    "        print('chandan')\n",
    "class dusra():\n",
    "    def bul(self):\n",
    "        print('kumar')\n",
    "class tisra(pehla,dusra):\n",
    "    def bulu(self):\n",
    "        print('singh')\n",
    "\n",
    "op=tisra()\n",
    "op.bula()\n",
    "op.bul()\n",
    "op.bulu()"
   ]
  },
  {
   "cell_type": "markdown",
   "metadata": {},
   "source": [
    " #### Hierachical Inheritance"
   ]
  },
  {
   "cell_type": "code",
   "execution_count": 9,
   "metadata": {},
   "outputs": [
    {
     "name": "stdout",
     "output_type": "stream",
     "text": [
      "Barking!\n",
      "Animal Speaking\n",
      "Meow!!\n",
      "Animal Speaking\n"
     ]
    }
   ],
   "source": [
    "class Animal:  \n",
    "    def speak(self):  \n",
    "        print(\"Animal Speaking\")  \n",
    "class Dog(Animal):  \n",
    "    def bark(self):  \n",
    "        print(\"Barking!\")  \n",
    "class Cat(Animal):  \n",
    "    def sound(self):  \n",
    "        print(\"Meow!!\")  \n",
    "d = Dog()  \n",
    "d.bark()  \n",
    "d.speak()  \n",
    "\n",
    "c = Cat()\n",
    "c.sound()\n",
    "c.speak()"
   ]
  },
  {
   "cell_type": "markdown",
   "metadata": {},
   "source": [
    "# 1"
   ]
  },
  {
   "cell_type": "code",
   "execution_count": 10,
   "metadata": {},
   "outputs": [
    {
     "name": "stdout",
     "output_type": "stream",
     "text": [
      "Enter Specialization of Employee:- cse\n",
      "Enter Department of Employee:- kiit\n",
      "Enter Name:-  chandan\n",
      "Enter Age:-  20\n",
      "Enter Phone Number:- 7873162108\n",
      "Enter Address:- xyz\n",
      "Enter Salary:- 2000\n",
      "chandan 20 2000\n",
      "Enter Specialization of Manager:- cse\n",
      "Enter Department of Manager:- kiit\n",
      "Enter Name:-  idk\n",
      "Enter Age:-  20\n",
      "Enter Phone Number:- 344\n",
      "Enter Address:- dffd\n",
      "Enter Salary:- 32323\n",
      "idk 20 32323\n"
     ]
    }
   ],
   "source": [
    "'''\n",
    "\n",
    "1.WAP TO REPRESENT HIERARCHIAL INHERITANCE\n",
    "\n",
    "2.Create a class named 'Member' having the following members:\n",
    "Data members\n",
    "1 - Name\n",
    "2 - Age\n",
    "3 - Phone number\n",
    "4 - Address\n",
    "5 - Salary\n",
    "It also has a method named 'printSalary' which prints the salary of the members.\n",
    "Two classes 'Employee' and 'Manager' inherits the 'Member' class. The 'Employee' and 'Manager' classes have data members 'specialization' and 'department' respectively. Now, assign name, age, phone number, address and salary to an employee and a manager by making an object of both of thesE.\n",
    "\n",
    "'''\n",
    "\n",
    "class Member():\n",
    "    \n",
    "    def details(self):\n",
    "        \n",
    "        self.name=input(\"Enter Name:-  \")\n",
    "        \n",
    "        self.age=int(input(\"Enter Age:-  \"))\n",
    "        \n",
    "        self.phone=input(\"Enter Phone Number:- \")\n",
    "        \n",
    "        self.address=input(\"Enter Address:- \")\n",
    "        \n",
    "        self.salary=input(\"Enter Salary:- \")\n",
    "\n",
    "    def printSalary(self):\n",
    "        \n",
    "        print(self.name, self.age, self.salary)\n",
    "\n",
    "class Employee(Member):\n",
    "    \n",
    "    def __init__(self):\n",
    "        \n",
    "        self.specialization=input(\"Enter Specialization of Employee:- \")\n",
    "        \n",
    "        self.department=input(\"Enter Department of Employee:- \")\n",
    "\n",
    "class Manager(Member):\n",
    "    \n",
    "    def __init__(self):\n",
    "        \n",
    "        self.specialization=input(\"Enter Specialization of Manager:- \")\n",
    "        \n",
    "        self.department=input(\"Enter Department of Manager:- \")\n",
    "\n",
    "\n",
    "e = Employee()\n",
    "\n",
    "e.details()\n",
    "\n",
    "e.printSalary()\n",
    "\n",
    "\n",
    "m = Manager()\n",
    "\n",
    "m.details()\n",
    "\n",
    "m.printSalary()\n",
    "\n",
    "\n",
    "\n",
    "        \n",
    "\n"
   ]
  },
  {
   "cell_type": "markdown",
   "metadata": {},
   "source": [
    "# 2"
   ]
  },
  {
   "cell_type": "code",
   "execution_count": 11,
   "metadata": {},
   "outputs": [
    {
     "name": "stdout",
     "output_type": "stream",
     "text": [
      "This is parent class\n",
      "This is child class\n",
      "This is parent class\n"
     ]
    }
   ],
   "source": [
    "'''\n",
    "2.\n",
    "\n",
    "Create a class with a method that prints \"This is parent class\" and its subclass with another method that prints \n",
    "\n",
    "\"This is child class\". Now, create an object for each of the class and call\n",
    "\n",
    "\n",
    "1 - method of parent class by object of parent class 2 - method of child class by object of child \n",
    "\n",
    "\n",
    "class 3 - method of parent class by object of child class\n",
    "\n",
    "'''\n",
    "\n",
    "class Parent:\n",
    "    \n",
    "    def funParent(self):\n",
    "        \n",
    "        print(\"This is parent class\")\n",
    "        \n",
    "class Child(Parent):\n",
    "    \n",
    "    def funChild(self): \n",
    "        \n",
    "        print(\"This is child class\") \n",
    "        \n",
    "obj = Parent()\n",
    "obj.funParent() \n",
    "\n",
    "obj2 = Child()\n",
    "obj2.funChild()\n",
    "\n",
    "obj2.funParent() "
   ]
  },
  {
   "cell_type": "markdown",
   "metadata": {},
   "source": [
    "# 3"
   ]
  },
  {
   "cell_type": "code",
   "execution_count": 12,
   "metadata": {},
   "outputs": [
    {
     "name": "stdout",
     "output_type": "stream",
     "text": [
      "This is This is shape\n",
      "This is rectangular shape\n"
     ]
    }
   ],
   "source": [
    "'''\n",
    "3.\n",
    "\n",
    "Create a class named 'Shape' with a method to print \"This is This is shape\". Then create two other classes named\n",
    "\n",
    "'Rectangle', 'Circle' inheriting the Shape class, both having a method to print \"This is rectangular shape\" and\n",
    "\n",
    "\"This is circular shape\" respectively. Create a subclass 'Square' of 'Rectangle' having a method to print \n",
    "\n",
    "\"Square is a rectangle\". Now call the method of 'Shape' and 'Rectangle' class by the object of 'Square' class.\n",
    "\n",
    "'''\n",
    "\n",
    "class Shape:\n",
    "    \n",
    "    def funShape(self):  \n",
    "        \n",
    "        print(\"This is This is shape\")  \n",
    "        \n",
    "class Rectangle(Shape): \n",
    "    \n",
    "    def funRectangle(self): \n",
    "        \n",
    "        print(\"This is rectangular shape\") \n",
    "\n",
    "class Circle(Shape):  \n",
    "    \n",
    "    def funCircle(self): \n",
    "        \n",
    "        print(\"This is circular shape\") \n",
    "\n",
    "class Square(Rectangle):\n",
    "    \n",
    "    def funSquare(self):\n",
    "        \n",
    "        print(\"Square is a rectangle\") \n",
    "\n",
    "\n",
    "obj = Square()\n",
    "\n",
    "obj.funShape()\n",
    "\n",
    "obj.funRectangle()"
   ]
  },
  {
   "cell_type": "markdown",
   "metadata": {},
   "source": [
    "# 4"
   ]
  },
  {
   "cell_type": "code",
   "execution_count": 13,
   "metadata": {},
   "outputs": [
    {
     "name": "stdout",
     "output_type": "stream",
     "text": [
      "Barking!\n",
      "Animal Speaking\n",
      "Meow!!\n",
      "Animal Speaking\n"
     ]
    }
   ],
   "source": [
    "#1.WAP TO REPRESENT HIERARCHIAL INHERITANCE.\n",
    "\n",
    "class Animal:  \n",
    "    \n",
    "    def speak(self): \n",
    "        \n",
    "        print(\"Animal Speaking\")  \n",
    "        \n",
    "class Dog(Animal): \n",
    "    \n",
    "    def bark(self):  \n",
    "        \n",
    "        print(\"Barking!\")\n",
    "        \n",
    "class Cat(Animal):  \n",
    "    \n",
    "    def sound(self):  \n",
    "        \n",
    "        print(\"Meow!!\")  \n",
    "        \n",
    "        \n",
    "d = Dog()  \n",
    "d.bark()  \n",
    "d.speak()  \n",
    "\n",
    "c = Cat()\n",
    "c.sound()\n",
    "c.speak()"
   ]
  },
  {
   "cell_type": "markdown",
   "metadata": {},
   "source": [
    "# 5"
   ]
  },
  {
   "cell_type": "code",
   "execution_count": 20,
   "metadata": {},
   "outputs": [
    {
     "name": "stdout",
     "output_type": "stream",
     "text": [
      "25\n",
      "20\n"
     ]
    }
   ],
   "source": [
    "'''\n",
    "\n",
    "5.Create a class named 'Rectangle' with two data members 'length' and 'breadth' and two methods to print the area and \n",
    "\n",
    "perimeter of the rectangle respectively. Its constructor having parameters for length and breadth is used to initialize\n",
    "\n",
    "length and breadth of the rectangle. Let class 'Square' inherit the 'Rectangle' class with its constructor having a \n",
    "\n",
    "parameter for its side (suppose s) calling the constructor of its parent class as 'super(s,s)'. Print the area and perimeter of a rectangle and a square.\n",
    "\n",
    "'''\n",
    "\n",
    "class Rectangle():\n",
    "    def __init__(self, l, b):\n",
    "        self.length = l\n",
    "        self.breadth = b\n",
    "\n",
    "    def getArea(self):\n",
    "        return self.length * self.breadth\n",
    "\n",
    "    def getPerimeter(self):\n",
    "        return 2*(self.length + self.breadth)\n",
    "\n",
    "class Square(Rectangle):\n",
    "    def __init__(self, s):\n",
    "        self.side = s\n",
    "        super().__init__(self.side, self.side)\n",
    "        \n",
    "rect = Square(5)\n",
    "\n",
    "print(rect.getArea())\n",
    "print(rect.getPerimeter())"
   ]
  },
  {
   "cell_type": "markdown",
   "metadata": {},
   "source": [
    "# 6"
   ]
  },
  {
   "cell_type": "code",
   "execution_count": 16,
   "metadata": {},
   "outputs": [
    {
     "name": "stdout",
     "output_type": "stream",
     "text": [
      "2015 is not a leap year\n"
     ]
    }
   ],
   "source": [
    "'''\n",
    "\n",
    "6.Create a class with a method. The method has to decide whether a given year is a leap year or not.\n",
    "Note- A year is a leap year if:\n",
    "• It has an extra day i.e. 366 instead of 365.\n",
    "• It occurs in every 4 year e.g. 2008, 2012 are leap years.\n",
    "• For every 100 years a special rule applies-1900 is not a leap year but 2000 is a leap\n",
    "year. In those cases, we need to check whether it is divisible by 400 or not.\n",
    "\n",
    "'''\n",
    "\n",
    "class leapYear:\n",
    "    \n",
    "    def checkLeapYear(self, year):\n",
    "        \n",
    "        if (year % 4) == 0:\n",
    "            \n",
    "            if (year % 100) == 0:\n",
    "                \n",
    "                if (year % 400) == 0:\n",
    "                    \n",
    "                    print(\"{0} is a leap year\".format(year))\n",
    "                    \n",
    "                else:\n",
    "                    \n",
    "                    print(\"{0} is not a leap year\".format(year))\n",
    "            else:\n",
    "                \n",
    "                print(\"{0} is a leap year\".format(year))\n",
    "        else:\n",
    "            \n",
    "            print(\"{0} is not a leap year\".format(year))\n",
    "\n",
    "\n",
    "obj = leapYear()\n",
    "\n",
    "obj.checkLeapYear(2015)"
   ]
  },
  {
   "cell_type": "code",
   "execution_count": null,
   "metadata": {},
   "outputs": [],
   "source": []
  }
 ],
 "metadata": {
  "kernelspec": {
   "display_name": "Python 3",
   "language": "python",
   "name": "python3"
  },
  "language_info": {
   "codemirror_mode": {
    "name": "ipython",
    "version": 3
   },
   "file_extension": ".py",
   "mimetype": "text/x-python",
   "name": "python",
   "nbconvert_exporter": "python",
   "pygments_lexer": "ipython3",
   "version": "3.7.4"
  }
 },
 "nbformat": 4,
 "nbformat_minor": 2
}

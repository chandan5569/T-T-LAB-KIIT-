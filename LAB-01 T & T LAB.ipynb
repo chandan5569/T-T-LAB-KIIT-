{
 "cells": [
  {
   "cell_type": "code",
   "execution_count": 1,
   "metadata": {},
   "outputs": [
    {
     "name": "stdout",
     "output_type": "stream",
     "text": [
      "hello A4!!\n"
     ]
    }
   ],
   "source": [
    "#Normal printing\n",
    "\n",
    "print(\"hello A4!!\")"
   ]
  },
  {
   "cell_type": "code",
   "execution_count": 2,
   "metadata": {},
   "outputs": [
    {
     "name": "stdout",
     "output_type": "stream",
     "text": [
      "Enter your name?Ziko \n",
      "Hello from  Ziko \n"
     ]
    }
   ],
   "source": [
    "#Taking input in pyhton\n",
    "\n",
    "name=input(\"Enter your name?\")\n",
    "\n",
    "print(\"Hello from \",name)"
   ]
  },
  {
   "cell_type": "code",
   "execution_count": 1,
   "metadata": {},
   "outputs": [
    {
     "name": "stdout",
     "output_type": "stream",
     "text": [
      "enter int number4\n",
      "enter float number5.6\n",
      "4 5.6\n"
     ]
    }
   ],
   "source": [
    "#taking input and typecasting in integer and floating type value.\n",
    "\n",
    "x=int(input('enter int number'))\n",
    "y=float(input(\"enter float number\"))\n",
    "print(x,y)"
   ]
  },
  {
   "cell_type": "code",
   "execution_count": 5,
   "metadata": {},
   "outputs": [
    {
     "name": "stdout",
     "output_type": "stream",
     "text": [
      "enter the side of the square5\n",
      "perimeter of square is  20.0\n"
     ]
    }
   ],
   "source": [
    "##perimeter of square\n",
    "\n",
    "a=float(input('enter the side of the square'))\n",
    "\n",
    "x=4*a\n",
    "\n",
    "print('perimeter of square is ',x)"
   ]
  },
  {
   "cell_type": "code",
   "execution_count": 6,
   "metadata": {},
   "outputs": [
    {
     "name": "stdout",
     "output_type": "stream",
     "text": [
      "enter the radius of the circle4\n",
      "perimeter of square is  50.24\n"
     ]
    }
   ],
   "source": [
    "## area of circle\n",
    "\n",
    "r=float(input('enter the radius of the circle'))\n",
    "\n",
    "y=(3.14)*r*r\n",
    "\n",
    "print('perimeter of square is ',y)"
   ]
  },
  {
   "cell_type": "code",
   "execution_count": 8,
   "metadata": {},
   "outputs": [
    {
     "name": "stdout",
     "output_type": "stream",
     "text": [
      "enter int number4\n",
      "enter float number5\n",
      "X= 5.0 Y= 4\n"
     ]
    }
   ],
   "source": [
    "## swapping of two numbers\n",
    "\n",
    "x=int(input('enter int number'))\n",
    "y=float(input(\"enter float number\"))\n",
    "\n",
    "x,y = y,x\n",
    "\n",
    "print(\"X=\",x,\"Y=\",y)"
   ]
  },
  {
   "cell_type": "code",
   "execution_count": 9,
   "metadata": {},
   "outputs": [
    {
     "name": "stdout",
     "output_type": "stream",
     "text": [
      "enter a number4\n",
      "even\n"
     ]
    }
   ],
   "source": [
    "##even odd\n",
    "\n",
    "x=int(input('enter a number'))\n",
    "\n",
    "if x%2==0:\n",
    "    \n",
    "    print('even')\n",
    "    \n",
    "else:\n",
    "    print('odd')"
   ]
  },
  {
   "cell_type": "code",
   "execution_count": 11,
   "metadata": {},
   "outputs": [
    {
     "name": "stdout",
     "output_type": "stream",
     "text": [
      "15\n"
     ]
    }
   ],
   "source": [
    "##sum of the numbers in the list\n",
    "\n",
    "x=[1,2,3,4,5]\n",
    "\n",
    "s=0\n",
    "\n",
    "for i in x:\n",
    "    s=s+i\n",
    "print(s)\n",
    "    \n",
    "    "
   ]
  },
  {
   "cell_type": "code",
   "execution_count": 15,
   "metadata": {},
   "outputs": [
    {
     "name": "stdout",
     "output_type": "stream",
     "text": [
      "55\n"
     ]
    }
   ],
   "source": [
    "##sum of natural numbers\n",
    "x=10\n",
    "s=0\n",
    "while(x>0):\n",
    "    s=s+x\n",
    "    x=x-1\n",
    "print(s)"
   ]
  },
  {
   "cell_type": "code",
   "execution_count": 17,
   "metadata": {},
   "outputs": [
    {
     "name": "stdout",
     "output_type": "stream",
     "text": [
      "enter the year to check wheather it is leap year or not \n",
      "2016\n",
      "is a leap year\n"
     ]
    }
   ],
   "source": [
    "##leap year or not\n",
    "\n",
    "x=int(input('enter the year to check wheather it is leap year or not \\n'))\n",
    "\n",
    "if (x % 4) == 0:\n",
    "   if (x % 100) == 0:\n",
    "       if (x % 400) == 0:\n",
    "           print(\"is a leap year\")\n",
    "       else:\n",
    "           print(\"is not a leap year\")\n",
    "   else:\n",
    "       print(\"is a leap year\")\n",
    "else:\n",
    "   print(\"is not a leap year\")"
   ]
  },
  {
   "cell_type": "code",
   "execution_count": 20,
   "metadata": {},
   "outputs": [
    {
     "name": "stdout",
     "output_type": "stream",
     "text": [
      "first number : 10\n",
      "second number : 20\n",
      "hcf is  10  and  20  is :  10\n"
     ]
    }
   ],
   "source": [
    "##hcf of two numbers\n",
    "\n",
    "import math\n",
    "\n",
    "x1 = int(input(\"first number : \"))\n",
    "\n",
    "x2 = int(input(\"second number : \"))\n",
    "\n",
    "print(\"hcf is \",x1,\" and \",x2,\" is : \",math.gcd(x1,x2))"
   ]
  },
  {
   "cell_type": "code",
   "execution_count": null,
   "metadata": {},
   "outputs": [],
   "source": []
  }
 ],
 "metadata": {
  "kernelspec": {
   "display_name": "Python 3",
   "language": "python",
   "name": "python3"
  },
  "language_info": {
   "codemirror_mode": {
    "name": "ipython",
    "version": 3
   },
   "file_extension": ".py",
   "mimetype": "text/x-python",
   "name": "python",
   "nbconvert_exporter": "python",
   "pygments_lexer": "ipython3",
   "version": "3.7.4"
  }
 },
 "nbformat": 4,
 "nbformat_minor": 2
}

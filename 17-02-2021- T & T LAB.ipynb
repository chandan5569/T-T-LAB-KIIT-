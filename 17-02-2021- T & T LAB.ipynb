{
 "cells": [
  {
   "cell_type": "code",
   "execution_count": 2,
   "metadata": {},
   "outputs": [
    {
     "data": {
      "text/plain": [
       "'\\nWAP TO MENTION THE CELEBRATIONS IN A MONTH , STUDENTS PARTICIPATING IN EACH AND FIND THE STUDENT WHO PARTICIPATES\\n\\nIN MORE THAN 1 EVENT.\\n\\n'"
      ]
     },
     "execution_count": 2,
     "metadata": {},
     "output_type": "execute_result"
    }
   ],
   "source": [
    "'''\n",
    "WAP TO MENTION THE CELEBRATIONS IN A MONTH , STUDENTS PARTICIPATING IN EACH AND FIND THE STUDENT WHO PARTICIPATES\n",
    "\n",
    "IN MORE THAN 1 EVENT.\n",
    "\n",
    "'''\n",
    "\n"
   ]
  },
  {
   "cell_type": "markdown",
   "metadata": {},
   "source": [
    "# SET"
   ]
  },
  {
   "cell_type": "markdown",
   "metadata": {},
   "source": [
    "#### NOTES"
   ]
  },
  {
   "cell_type": "code",
   "execution_count": 3,
   "metadata": {},
   "outputs": [
    {
     "name": "stdout",
     "output_type": "stream",
     "text": [
      "{1, 2, 3, 5, 9, 77}\n"
     ]
    }
   ],
   "source": [
    "my_set = {1, 2, 3,5,9,77}\n",
    "print(my_set)"
   ]
  },
  {
   "cell_type": "code",
   "execution_count": 5,
   "metadata": {},
   "outputs": [
    {
     "name": "stdout",
     "output_type": "stream",
     "text": [
      "{1, 2, 3, 'chandan', 5, 9}\n"
     ]
    }
   ],
   "source": [
    "my_set = {1, 2, 3,5,9,'chandan',1,2,True}\n",
    "print(my_set)"
   ]
  },
  {
   "cell_type": "code",
   "execution_count": 6,
   "metadata": {},
   "outputs": [
    {
     "name": "stdout",
     "output_type": "stream",
     "text": [
      "{1, 2, 3, 4}\n"
     ]
    }
   ],
   "source": [
    "my_set = {1, 2, 3, 4, 3, 2}\n",
    "print(my_set)"
   ]
  },
  {
   "cell_type": "code",
   "execution_count": 7,
   "metadata": {},
   "outputs": [],
   "source": [
    "s = set()"
   ]
  },
  {
   "cell_type": "code",
   "execution_count": 9,
   "metadata": {},
   "outputs": [
    {
     "name": "stdout",
     "output_type": "stream",
     "text": [
      "{1, 2, 3, 4, 5, 6, 8}\n"
     ]
    }
   ],
   "source": [
    "\n",
    "my_set.update([4, 5], {1, 6, 8})\n",
    "\n",
    "print(my_set)"
   ]
  },
  {
   "cell_type": "code",
   "execution_count": 10,
   "metadata": {},
   "outputs": [
    {
     "name": "stdout",
     "output_type": "stream",
     "text": [
      "{1, 2, 3, 4, 5, 6, 7, 8}\n"
     ]
    }
   ],
   "source": [
    "A = {1, 2, 3, 4, 5}\n",
    "B = {4, 5, 6, 7, 8}\n",
    "print(A | B)"
   ]
  },
  {
   "cell_type": "code",
   "execution_count": 11,
   "metadata": {},
   "outputs": [
    {
     "name": "stdout",
     "output_type": "stream",
     "text": [
      "{4, 5}\n",
      "{1, 2, 3}\n",
      "{1, 2, 3, 6, 7, 8}\n"
     ]
    }
   ],
   "source": [
    "print(A & B)\n",
    "print(A - B)\n",
    "print(A ^ B)"
   ]
  },
  {
   "cell_type": "code",
   "execution_count": 13,
   "metadata": {},
   "outputs": [],
   "source": [
    "my_set.discard(4)\n",
    "my_set.remove(6)"
   ]
  },
  {
   "cell_type": "code",
   "execution_count": 15,
   "metadata": {},
   "outputs": [
    {
     "name": "stdout",
     "output_type": "stream",
     "text": [
      "5\n"
     ]
    }
   ],
   "source": [
    "print(len(my_set))\n"
   ]
  },
  {
   "cell_type": "markdown",
   "metadata": {},
   "source": [
    "# PROBLEMS"
   ]
  },
  {
   "cell_type": "code",
   "execution_count": 16,
   "metadata": {},
   "outputs": [
    {
     "name": "stdout",
     "output_type": "stream",
     "text": [
      "{0, 1, 2, 3, 5}\n"
     ]
    }
   ],
   "source": [
    "#Write a Python program to remove an item from a set if it is present in the set.\n",
    "\n",
    "\n",
    "num_set = set([0, 1, 2, 3, 4, 5])\n",
    "\n",
    "num_set.discard(4)\n",
    "\n",
    "print(num_set)"
   ]
  },
  {
   "cell_type": "code",
   "execution_count": 17,
   "metadata": {},
   "outputs": [
    {
     "name": "stdout",
     "output_type": "stream",
     "text": [
      "{'blue'}\n"
     ]
    }
   ],
   "source": [
    "#Write a Python program to create an intersection of sets.\n",
    "\n",
    "#Intersection\n",
    "\n",
    "setx = set([\"green\", \"blue\"])\n",
    "\n",
    "sety = set([\"blue\", \"yellow\"])\n",
    "\n",
    "setz = setx & sety\n",
    "\n",
    "print(setz)"
   ]
  },
  {
   "cell_type": "code",
   "execution_count": 18,
   "metadata": {},
   "outputs": [
    {
     "name": "stdout",
     "output_type": "stream",
     "text": [
      "{'mango'}\n",
      "{'apple'}\n"
     ]
    }
   ],
   "source": [
    "#Write a Python program to create set difference.\n",
    "\n",
    "setx = set([\"apple\", \"mango\"])\n",
    "\n",
    "sety = set([\"mango\", \"orange\"])\n",
    "\n",
    "setz = setx & sety\n",
    "\n",
    "print(setz)\n",
    "\n",
    "\n",
    "\n",
    "setb = setx - setz\n",
    "\n",
    "print(setb)"
   ]
  },
  {
   "cell_type": "code",
   "execution_count": 19,
   "metadata": {},
   "outputs": [
    {
     "name": "stdout",
     "output_type": "stream",
     "text": [
      "20\n",
      "2\n"
     ]
    }
   ],
   "source": [
    "#Write a Python program to find maximum and the minimum value in a set.\n",
    "\n",
    "\n",
    "s = set([5, 10, 3, 15, 2, 20])\n",
    "\n",
    "\n",
    "\n",
    "print(max(s))\n",
    "\n",
    "\n",
    "\n",
    "print(min(s))"
   ]
  },
  {
   "cell_type": "code",
   "execution_count": 22,
   "metadata": {},
   "outputs": [
    {
     "name": "stdout",
     "output_type": "stream",
     "text": [
      "True\n",
      "False\n"
     ]
    }
   ],
   "source": [
    "#Write a Python program to check if a set is a subset of another set.\n",
    "\n",
    "A = {1, 2, 3}\n",
    "\n",
    "B = {1, 2, 3, 4, 5}\n",
    "\n",
    "print(A.issubset(B))\n",
    "\n",
    "print(B.issubset(A))"
   ]
  },
  {
   "cell_type": "code",
   "execution_count": 23,
   "metadata": {},
   "outputs": [
    {
     "name": "stdout",
     "output_type": "stream",
     "text": [
      "6\n"
     ]
    }
   ],
   "source": [
    "#Write a Python program to find the length of a set.\n",
    "\n",
    "\n",
    "s = set([5, 10, 3, 15, 2, 20])\n",
    "\n",
    "\n",
    "print(len(s))"
   ]
  },
  {
   "cell_type": "code",
   "execution_count": 24,
   "metadata": {},
   "outputs": [
    {
     "name": "stdout",
     "output_type": "stream",
     "text": [
      "False\n"
     ]
    }
   ],
   "source": [
    "#Write a Python program to check if two given sets have no elements in common.\n",
    "\n",
    "x = {1,2,3,4}\n",
    "\n",
    "\n",
    "y = {4,5,6,7}\n",
    "\n",
    "print(x.isdisjoint(y))"
   ]
  },
  {
   "cell_type": "code",
   "execution_count": 25,
   "metadata": {},
   "outputs": [
    {
     "name": "stdout",
     "output_type": "stream",
     "text": [
      "{1, 2, 3}\n",
      "{8, 6, 7}\n"
     ]
    }
   ],
   "source": [
    "#Write a Python program to find the elements in a given set that are not in another set.\n",
    "\n",
    "sn1 = {1,2,3,4,5}\n",
    "\n",
    "sn2 = {4,5,6,7,8}\n",
    "\n",
    "print(sn1.difference(sn2))\n",
    "\n",
    "print(sn2.difference(sn1))"
   ]
  },
  {
   "cell_type": "code",
   "execution_count": null,
   "metadata": {},
   "outputs": [],
   "source": []
  }
 ],
 "metadata": {
  "kernelspec": {
   "display_name": "Python 3",
   "language": "python",
   "name": "python3"
  },
  "language_info": {
   "codemirror_mode": {
    "name": "ipython",
    "version": 3
   },
   "file_extension": ".py",
   "mimetype": "text/x-python",
   "name": "python",
   "nbconvert_exporter": "python",
   "pygments_lexer": "ipython3",
   "version": "3.9.0"
  }
 },
 "nbformat": 4,
 "nbformat_minor": 4
}

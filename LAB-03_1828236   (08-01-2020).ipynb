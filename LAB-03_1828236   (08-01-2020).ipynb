{
 "cells": [
  {
   "cell_type": "markdown",
   "metadata": {},
   "source": [
    "# CLASS ASSIGNMENT"
   ]
  },
  {
   "cell_type": "markdown",
   "metadata": {},
   "source": [
    "#### Write a Python program to get the largest number from a list."
   ]
  },
  {
   "cell_type": "code",
   "execution_count": 1,
   "metadata": {},
   "outputs": [
    {
     "name": "stdout",
     "output_type": "stream",
     "text": [
      "2222\n"
     ]
    }
   ],
   "source": [
    "x=[85,34,66,1,3,5,2222]\n",
    "\n",
    "x.sort()\n",
    "\n",
    "print(x[-1])"
   ]
  },
  {
   "cell_type": "code",
   "execution_count": 2,
   "metadata": {},
   "outputs": [
    {
     "name": "stdout",
     "output_type": "stream",
     "text": [
      "85\n"
     ]
    }
   ],
   "source": [
    "#without using sort function  \n",
    "\n",
    "\n",
    "y=[85,34,66,1,3,5,1]\n",
    "\n",
    "\n",
    "max = y[0]\n",
    "\n",
    "for i in y:\n",
    "    \n",
    "    if max<i:\n",
    "        max=i\n",
    "        \n",
    "        \n",
    "print(max)"
   ]
  },
  {
   "cell_type": "markdown",
   "metadata": {},
   "source": [
    "#### Write a Python program to sum all the items in a list"
   ]
  },
  {
   "cell_type": "code",
   "execution_count": 3,
   "metadata": {},
   "outputs": [
    {
     "name": "stdout",
     "output_type": "stream",
     "text": [
      "195\n"
     ]
    }
   ],
   "source": [
    "y=[85,34,66,1,3,5,1]\n",
    "\n",
    "s=0\n",
    "\n",
    "for i in y:\n",
    "    \n",
    "    s=s+i\n",
    "    \n",
    "print(s)"
   ]
  },
  {
   "cell_type": "markdown",
   "metadata": {},
   "source": [
    " #### Write a Python program to get a list sorted in decreasing order"
   ]
  },
  {
   "cell_type": "code",
   "execution_count": 5,
   "metadata": {},
   "outputs": [
    {
     "name": "stdout",
     "output_type": "stream",
     "text": [
      "[85, 66, 34, 5, 3, 1, 1]\n"
     ]
    }
   ],
   "source": [
    "y=[85,34,66,1,3,5,1]\n",
    "\n",
    "y.sort(reverse=True)\n",
    "\n",
    "print(y)"
   ]
  },
  {
   "cell_type": "markdown",
   "metadata": {},
   "source": [
    "#### Write a Python program to clone or copy a list."
   ]
  },
  {
   "cell_type": "code",
   "execution_count": 6,
   "metadata": {},
   "outputs": [
    {
     "name": "stdout",
     "output_type": "stream",
     "text": [
      "[85, 34, 66, 1, 3, 5, 1]\n"
     ]
    }
   ],
   "source": [
    "z=[85,34,66,1,3,5,1]\n",
    "\n",
    "d=[]\n",
    "\n",
    "for i in z:\n",
    "    \n",
    "    d.append(i)\n",
    "    \n",
    "print(d)"
   ]
  },
  {
   "cell_type": "markdown",
   "metadata": {},
   "source": [
    "#### Write a Python program to get the frequency of the elements in a list."
   ]
  },
  {
   "cell_type": "code",
   "execution_count": 9,
   "metadata": {},
   "outputs": [
    {
     "name": "stdout",
     "output_type": "stream",
     "text": [
      "1 :  4\n",
      "2 :  2\n",
      "3 :  2\n",
      "4 :  1\n",
      "5 :  1\n"
     ]
    }
   ],
   "source": [
    "list = [1,1,1,2,2,1,3,3,4,5]\n",
    "\n",
    "frequency = {}      \n",
    "\n",
    "for item in list:\n",
    "    \n",
    "   if (item in frequency):\n",
    "    \n",
    "      frequency[item] += 1\n",
    "        \n",
    "   else:\n",
    "    \n",
    "      frequency[item] = 1\n",
    "        \n",
    "for key, value in frequency.items():\n",
    "   print(\"% s : % d\" % (key, value))"
   ]
  },
  {
   "cell_type": "markdown",
   "metadata": {},
   "source": [
    "#### WAP TO  SEPARATE THE STRING VALUES FROM A LIST WITH DIFFRENT DATATYPES AND ALSO COUNT THEIR FREQUENCY"
   ]
  },
  {
   "cell_type": "code",
   "execution_count": 11,
   "metadata": {},
   "outputs": [
    {
     "name": "stdout",
     "output_type": "stream",
     "text": [
      "['chandan', 'kumar', 'I', 'am', 'chandan', 'singh']\n",
      "{'chandan': 2, 'kumar': 1, 'I': 1, 'am': 1, 'singh': 1}\n"
     ]
    }
   ],
   "source": [
    "A = [\"chandan\", \"kumar\", 1, 4j, [32, 12, 1], (12, 34), \"I\", \"am\", \"chandan\", \"singh\"]\n",
    "\n",
    "stringElements = []\n",
    "frequency = {}\n",
    "\n",
    "for i in A:\n",
    "    if type(i) == str:\n",
    "        stringElements.append(i)\n",
    "        if i in frequency:\n",
    "            frequency[i] += 1\n",
    "        else:\n",
    "            frequency[i] = 1\n",
    "\n",
    "print(stringElements)\n",
    "print(frequency)"
   ]
  },
  {
   "cell_type": "markdown",
   "metadata": {},
   "source": [
    "#### WAP TO JOIN 2 LIST AND FIND THE SMALEST  ELEMENT FROM THE THIRD LIST"
   ]
  },
  {
   "cell_type": "code",
   "execution_count": 12,
   "metadata": {},
   "outputs": [
    {
     "name": "stdout",
     "output_type": "stream",
     "text": [
      "1\n"
     ]
    }
   ],
   "source": [
    "A = [\"chandan\", \"kumar\", 1, 4j, [32, 12, 1], (12, 34), \"I\", \"am\", \"chandan\", \"kumar\"]\n",
    "\n",
    "B = [2, 3j, \"ttt\", \"bd\", 3, ['o', 'p']]\n",
    "\n",
    "C = A + B\n",
    "\n",
    "minElement = None\n",
    "\n",
    "for i in C:\n",
    "    if type(i) == int:\n",
    "        minElement = i\n",
    "        break\n",
    "\n",
    "for i in C:\n",
    "    if type(i) == int:\n",
    "        if i < minElement:\n",
    "            minElement = i\n",
    "\n",
    "print(minElement)"
   ]
  },
  {
   "cell_type": "markdown",
   "metadata": {},
   "source": [
    "# HOME ASSINGMENT"
   ]
  },
  {
   "cell_type": "markdown",
   "metadata": {},
   "source": [
    "#### Write a Python program to check whether a list contains a sublist."
   ]
  },
  {
   "cell_type": "code",
   "execution_count": 26,
   "metadata": {},
   "outputs": [
    {
     "data": {
      "text/plain": [
       "False"
      ]
     },
     "execution_count": 26,
     "metadata": {},
     "output_type": "execute_result"
    }
   ],
   "source": [
    "l1 = [1,2,3,4,5,6,7,8,9]\n",
    "\n",
    "l2 = [2,5]\n",
    "\n",
    "all(i in l2 for i in l1)"
   ]
  },
  {
   "cell_type": "markdown",
   "metadata": {},
   "source": [
    "#### Write a Python program to find common items from two lists."
   ]
  },
  {
   "cell_type": "code",
   "execution_count": 30,
   "metadata": {},
   "outputs": [
    {
     "name": "stdout",
     "output_type": "stream",
     "text": [
      "[5]\n"
     ]
    }
   ],
   "source": [
    "a=[1,2,3,4,5]\n",
    "\n",
    "\n",
    "b=[5,7,8,9,0]\n",
    "\n",
    "def fun(a,b): \n",
    "    \n",
    "    c = [value for value in a if value in b]\n",
    "    \n",
    "    return c\n",
    "\n",
    "d=fun(a,b)\n",
    "\n",
    "print(d)"
   ]
  },
  {
   "cell_type": "markdown",
   "metadata": {},
   "source": [
    "#### Write a Python program to split a list of 20 elements after every 4th element"
   ]
  },
  {
   "cell_type": "code",
   "execution_count": 31,
   "metadata": {},
   "outputs": [
    {
     "name": "stdout",
     "output_type": "stream",
     "text": [
      "[['a', 'e', 'i', 'm', 'q'], ['b', 'f', 'j', 'n', 'r'], ['c', 'g', 'k', 'o', 's'], ['d', 'h', 'l', 'p', 't']]\n"
     ]
    }
   ],
   "source": [
    "list1 = ['a', 'b', 'c', 'd', 'e', 'f', 'g', 'h', 'i', 'j', 'k', 'l', 'm', 'n','o','p','q','r','s','t']\n",
    "\n",
    "def list_slice(S, step):\n",
    "    \n",
    "    return [S[i::step] for i in range(step)]\n",
    "\n",
    "\n",
    "print(list_slice(list1,4))"
   ]
  },
  {
   "cell_type": "code",
   "execution_count": null,
   "metadata": {},
   "outputs": [],
   "source": []
  }
 ],
 "metadata": {
  "kernelspec": {
   "display_name": "Python 3",
   "language": "python",
   "name": "python3"
  },
  "language_info": {
   "codemirror_mode": {
    "name": "ipython",
    "version": 3
   },
   "file_extension": ".py",
   "mimetype": "text/x-python",
   "name": "python",
   "nbconvert_exporter": "python",
   "pygments_lexer": "ipython3",
   "version": "3.7.4"
  }
 },
 "nbformat": 4,
 "nbformat_minor": 2
}

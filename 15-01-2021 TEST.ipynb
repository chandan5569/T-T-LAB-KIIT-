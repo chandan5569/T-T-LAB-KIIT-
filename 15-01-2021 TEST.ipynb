{
 "cells": [
  {
   "cell_type": "code",
   "execution_count": 7,
   "metadata": {},
   "outputs": [
    {
     "name": "stdout",
     "output_type": "stream",
     "text": [
      "The three lowest values are 4,5,9.\n",
      "The average of 3 lowest values in a dictionary is 6.0\n"
     ]
    }
   ],
   "source": [
    "#1) Write a Python program to find the average of lowest 3 values in a dictionary.\n",
    "\n",
    "d={'a':22,'b':34,'c':45,'d':5,'e':33,'f':4,'g':66,'h':9}\n",
    "\n",
    "#assign \n",
    "\n",
    "m1=10000\n",
    "m2=10000\n",
    "m3=10000\n",
    "\n",
    "for i,j in d.items():\n",
    "    if j<m1:\n",
    "        m3=m2\n",
    "        m2=m1\n",
    "        m1=j\n",
    "    elif j<m2:\n",
    "        m3=m2\n",
    "        m2=j\n",
    "    elif j<m3:\n",
    "        m3=j\n",
    "        \n",
    "print(f\"The three lowest values are {m1},{m2},{m3}.\")\n",
    "\n",
    "s=m1+m2+m3\n",
    "\n",
    "print(f\"The average of 3 lowest values in a dictionary is {s/3}\")"
   ]
  },
  {
   "cell_type": "code",
   "execution_count": 14,
   "metadata": {},
   "outputs": [
    {
     "name": "stdout",
     "output_type": "stream",
     "text": [
      "intial dictonary\n",
      "{1: 91, 2: 46, 3: 47, 4: 94, 5: 73, 6: 93, 7: 66, 8: 81}\n",
      "dictonary after middle updation and second last element deletion\n",
      "{1: 91, 2: 46, 3: 47, 4: 'upadation', 5: 73, 6: 93, 8: 81}\n"
     ]
    }
   ],
   "source": [
    "#2) WAP TO PRINT A DICT WITH 8 KEYS, UPDATE THE MIDDLE KEY AND DELETE SECOND LAST KEY  FROM RIGHT\n",
    "\n",
    "import random\n",
    "\n",
    "dictionary={x:random.randint(x,100) for x in range(1,9) }\n",
    "\n",
    "values=[x for x in dictionary.values()]\n",
    "\n",
    "print('intial dictonary')\n",
    "\n",
    "print(dictionary)\n",
    "\n",
    "keys=[x for x in dictionary.keys()]\n",
    "\n",
    "i = len(keys)/2 if len(keys)%2==0 else (len(keys)+1)/2\n",
    "\n",
    "dictionary[keys[int(i)-1]]='upadation'\n",
    "\n",
    "del dictionary[keys[-2]]\n",
    "\n",
    "print('dictonary after middle updation and second last element deletion')\n",
    "\n",
    "print(dictionary)"
   ]
  },
  {
   "cell_type": "code",
   "execution_count": 4,
   "metadata": {},
   "outputs": [
    {
     "name": "stdout",
     "output_type": "stream",
     "text": [
      "3\n"
     ]
    }
   ],
   "source": [
    "#3)Write a Python program to get the frequency of the second last element  in a list\n",
    "\n",
    "L = [7, 2, 5, 7, 1, 7, 8] \n",
    "\n",
    "d= {} \n",
    "  \n",
    "second_last = L[-2]\n",
    "\n",
    "#counting\n",
    "\n",
    "\n",
    "for i in L: \n",
    "    if i in d: \n",
    "        d[i] += 1\n",
    "    else: \n",
    "        d[i] = 1\n",
    "          \n",
    "print(d[second_last])"
   ]
  },
  {
   "cell_type": "code",
   "execution_count": null,
   "metadata": {},
   "outputs": [],
   "source": []
  }
 ],
 "metadata": {
  "kernelspec": {
   "display_name": "Python 3",
   "language": "python",
   "name": "python3"
  },
  "language_info": {
   "codemirror_mode": {
    "name": "ipython",
    "version": 3
   },
   "file_extension": ".py",
   "mimetype": "text/x-python",
   "name": "python",
   "nbconvert_exporter": "python",
   "pygments_lexer": "ipython3",
   "version": "3.7.4"
  }
 },
 "nbformat": 4,
 "nbformat_minor": 2
}

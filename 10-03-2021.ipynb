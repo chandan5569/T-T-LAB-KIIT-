{
 "cells": [
  {
   "cell_type": "markdown",
   "metadata": {},
   "source": [
    "# Numpy"
   ]
  },
  {
   "cell_type": "code",
   "execution_count": 2,
   "metadata": {},
   "outputs": [],
   "source": [
    "class classabc:\n",
    "    def __init__(self,num):\n",
    "        self.num=num\n",
    "        \n",
    "ob1=classabc(1)"
   ]
  },
  {
   "cell_type": "code",
   "execution_count": 3,
   "metadata": {},
   "outputs": [
    {
     "name": "stdout",
     "output_type": "stream",
     "text": [
      "['1' '2' '3' 'b']\n"
     ]
    }
   ],
   "source": [
    "#1D array\n",
    "import numpy as np\n",
    "a=np.array([1,2,3,'b'])\n",
    "print(a)"
   ]
  },
  {
   "cell_type": "code",
   "execution_count": 4,
   "metadata": {},
   "outputs": [
    {
     "name": "stdout",
     "output_type": "stream",
     "text": [
      "[[1 2]\n",
      " [3 4]\n",
      " [5 6]]\n"
     ]
    }
   ],
   "source": [
    "#2D array\n",
    "import numpy as np\n",
    "b=np.array([[1,2],[3,4],[5,6]])\n",
    "print(b)"
   ]
  },
  {
   "cell_type": "code",
   "execution_count": 5,
   "metadata": {},
   "outputs": [
    {
     "name": "stdout",
     "output_type": "stream",
     "text": [
      "[[1 2 3 4 5]]\n"
     ]
    }
   ],
   "source": [
    "#minimum dimension\n",
    "import numpy as np\n",
    "b=np.array([1,2,3,4,5], ndmin=2)\n",
    "print(b)"
   ]
  },
  {
   "cell_type": "code",
   "execution_count": 6,
   "metadata": {},
   "outputs": [
    {
     "name": "stdout",
     "output_type": "stream",
     "text": [
      "[1.+0.j 2.+0.j 3.+0.j 4.+0.j 5.+0.j]\n"
     ]
    }
   ],
   "source": [
    "#parse parameter\n",
    "import numpy as np\n",
    "b=np.array([1,2,3,4,5], dtype=complex)\n",
    "print(b)"
   ]
  },
  {
   "cell_type": "code",
   "execution_count": 9,
   "metadata": {},
   "outputs": [
    {
     "data": {
      "text/plain": [
       "'\\n\\nnumpy.dtype(object, align, copy)\\n\\nobject :\\n\\nalign :\\n\\ncopy : Make new copy of data object\\n\\n'"
      ]
     },
     "execution_count": 9,
     "metadata": {},
     "output_type": "execute_result"
    }
   ],
   "source": [
    "'''\n",
    "\n",
    "numpy.dtype(object, align, copy)\n",
    "\n",
    "object :\n",
    "\n",
    "align :\n",
    "\n",
    "copy : Make new copy of data object\n",
    "\n",
    "'''"
   ]
  },
  {
   "cell_type": "code",
   "execution_count": 10,
   "metadata": {},
   "outputs": [
    {
     "name": "stdout",
     "output_type": "stream",
     "text": [
      "[3, 5, 7]\n",
      "[3, 5, 7]\n"
     ]
    }
   ],
   "source": [
    "#Slicing\n",
    "a=[1,2,3,4,5,6,7,8,9,10,11,12]\n",
    "s=slice(2,7,2)\n",
    "print(a[s])\n",
    "print(a[2:7:2])"
   ]
  },
  {
   "cell_type": "code",
   "execution_count": 11,
   "metadata": {},
   "outputs": [
    {
     "name": "stdout",
     "output_type": "stream",
     "text": [
      "[3]\n"
     ]
    }
   ],
   "source": [
    "#Write a program to Splice a single value from a certain array\n",
    "\n",
    "import numpy as np\n",
    "a=np.array([1,2,3,4,5,6,7,8])\n",
    "print(a[2:3])"
   ]
  },
  {
   "cell_type": "code",
   "execution_count": 12,
   "metadata": {},
   "outputs": [
    {
     "name": "stdout",
     "output_type": "stream",
     "text": [
      "[1 2 3]\n"
     ]
    }
   ],
   "source": [
    "x = np.array([[1, 2], [3, 4], [5, 6]]) \n",
    "y = x[[0,0,1],[0,1,0]]\n",
    "print(y)"
   ]
  },
  {
   "cell_type": "code",
   "execution_count": 13,
   "metadata": {},
   "outputs": [
    {
     "name": "stdout",
     "output_type": "stream",
     "text": [
      "[5 8 4 1]\n"
     ]
    }
   ],
   "source": [
    "#Illustrate integer indexing in an array of 5X3 \n",
    "x = np.array([[1, 2,3], [4,5,6], [6,7,8],[9,10,11],[12,13,14]])\n",
    "y= x[[1,2,1,0],[1,2,0,0]]\n",
    "print(y)"
   ]
  },
  {
   "cell_type": "code",
   "execution_count": 14,
   "metadata": {},
   "outputs": [
    {
     "name": "stdout",
     "output_type": "stream",
     "text": [
      "[[ 0  5 10 15]\n",
      " [20 25 30 35]\n",
      " [40 45 50 55]]\n",
      "Modified array is: \n",
      "0\n",
      "5\n",
      "10\n",
      "15\n",
      "20\n",
      "25\n",
      "30\n",
      "35\n",
      "40\n",
      "45\n",
      "50\n",
      "55\n"
     ]
    }
   ],
   "source": [
    "a=np.arange(0,60,5)\n",
    "a= a.reshape(3,4)\n",
    "\n",
    "print(a)\n",
    "\n",
    "print('Modified array is: ')\n",
    "for x in np.nditer(a):\n",
    "    print(x),"
   ]
  },
  {
   "cell_type": "code",
   "execution_count": 15,
   "metadata": {},
   "outputs": [
    {
     "name": "stdout",
     "output_type": "stream",
     "text": [
      "Original array is:\n",
      "[[ 0  5 10 15]\n",
      " [20 25 30 35]\n",
      " [40 45 50 55]\n",
      " [60 65 70 75]]\n",
      "\n",
      "\n",
      "Transpose of the original array is:\n",
      "[[ 0 20 40 60]\n",
      " [ 5 25 45 65]\n",
      " [10 30 50 70]\n",
      " [15 35 55 75]]\n",
      "\n",
      "\n",
      "Sorted in C order:\n",
      "[[ 0 20 40 60]\n",
      " [ 5 25 45 65]\n",
      " [10 30 50 70]\n",
      " [15 35 55 75]]\n",
      "0\n",
      "20\n",
      "40\n",
      "60\n",
      "5\n",
      "25\n",
      "45\n",
      "65\n",
      "10\n",
      "30\n",
      "50\n",
      "70\n",
      "15\n",
      "35\n",
      "55\n",
      "75\n",
      "\n",
      "\n",
      "Sorted in F-order:\n",
      "[[ 0 20 40 60]\n",
      " [ 5 25 45 65]\n",
      " [10 30 50 70]\n",
      " [15 35 55 75]]\n",
      "0\n",
      "5\n",
      "10\n",
      "15\n",
      "20\n",
      "25\n",
      "30\n",
      "35\n",
      "40\n",
      "45\n",
      "50\n",
      "55\n",
      "60\n",
      "65\n",
      "70\n",
      "75\n"
     ]
    }
   ],
   "source": [
    "import numpy as np\n",
    "a = np.arange(0,80,5)\n",
    "a = a.reshape(4,4)\n",
    "print ('Original array is:')\n",
    "print (a)\n",
    "print ('\\n')\n",
    "\n",
    "print ('Transpose of the original array is:')\n",
    "b = a.T\n",
    "print (b)\n",
    "print('\\n') \n",
    "\n",
    "print ('Sorted in C order:')\n",
    "c = b.copy(order = 'C')\n",
    "print (c)\n",
    "for x in np.nditer(c):\n",
    "   print (x),\n",
    "\n",
    "print ('\\n')\n",
    "\n",
    "print ('Sorted in F-order:')\n",
    "c = b.copy(order = 'F')\n",
    "print (c)\n",
    "for x in np.nditer(c):\n",
    "   print (x),"
   ]
  },
  {
   "cell_type": "code",
   "execution_count": 16,
   "metadata": {},
   "outputs": [
    {
     "name": "stdout",
     "output_type": "stream",
     "text": [
      "[ 1.34   2.45   2.222  7.    45.   ] 1\n"
     ]
    },
    {
     "data": {
      "text/plain": [
       "array([ 1.,  2.,  2.,  7., 45.])"
      ]
     },
     "execution_count": 16,
     "metadata": {},
     "output_type": "execute_result"
    }
   ],
   "source": [
    "#WAP TO FIND ROUND OFF VALUES OF DECIMAL POINTS\n",
    "a=np.array([1.34,2.45,2.222,7,45])\n",
    "print(a,1)\n",
    "np.around(a)"
   ]
  },
  {
   "cell_type": "code",
   "execution_count": 17,
   "metadata": {},
   "outputs": [
    {
     "name": "stdout",
     "output_type": "stream",
     "text": [
      "[0 2 4 6 8]\n",
      "\n",
      "Addition:\n",
      "\n",
      "[ 2  4  6  8 10]\n",
      "\n",
      "Substraction:\n",
      "\n",
      "[-2  0  2  4  6]\n",
      "\n",
      "Multiplication:\n",
      "\n",
      "[ 0  4  8 12 16]\n",
      "\n",
      "Division:\n",
      "\n",
      "[0. 1. 2. 3. 4.]\n"
     ]
    }
   ],
   "source": [
    "#WAP TO DEMOSNTRATE BASIC ARITHMATIC OPERATIONS ON ARRAY\n",
    "a=np.arange(0,10,2)\n",
    "print(a)\n",
    "\n",
    "print(\"\\nAddition:\\n\")\n",
    "b=a+2\n",
    "print(b)\n",
    "\n",
    "print(\"\\nSubstraction:\\n\")\n",
    "c=a-2\n",
    "print(c)\n",
    "\n",
    "print(\"\\nMultiplication:\\n\")\n",
    "d=a*2\n",
    "print(d)\n",
    "\n",
    "print(\"\\nDivision:\\n\")\n",
    "d=a/2\n",
    "print(d)\n"
   ]
  },
  {
   "cell_type": "code",
   "execution_count": 18,
   "metadata": {},
   "outputs": [
    {
     "name": "stdout",
     "output_type": "stream",
     "text": [
      "[1 2 3 4 5 6 7 8 9]\n",
      "[1.         0.5        0.33333333 0.25       0.2        0.16666667\n",
      " 0.14285714 0.125      0.11111111]\n"
     ]
    }
   ],
   "source": [
    "#TAKE AN ARRAY WITH ATLEAT 7 INTEGET VALUES AND CALCULATE THEIR RECIPROCAL\n",
    "a=np.arange(1,10)\n",
    "print(a)\n",
    "\n",
    "b=1/a\n",
    "print(b)"
   ]
  },
  {
   "cell_type": "code",
   "execution_count": 19,
   "metadata": {},
   "outputs": [
    {
     "name": "stdout",
     "output_type": "stream",
     "text": [
      "[0 1 2 3 4]\n",
      "INput the power: 5\n",
      "[   0    1   32  243 1024]\n"
     ]
    }
   ],
   "source": [
    "#FIND THE NTH POWER OF VALUES OF AN ARRAY(Size min 4)\n",
    "a=np.arange(0,5)\n",
    "print(a)\n",
    "u_in=int(input(\"INput the power: \"))\n",
    "b=pow(a,u_in)\n",
    "print(b)"
   ]
  },
  {
   "cell_type": "code",
   "execution_count": 20,
   "metadata": {},
   "outputs": [
    {
     "name": "stdout",
     "output_type": "stream",
     "text": [
      "2.0\n"
     ]
    }
   ],
   "source": [
    "#WAP TO FIND THE PERCENTILE OF ARRAY ELEMENTS\n",
    "a=np.arange(0,5)\n",
    "print(np.percentile(a,50))"
   ]
  },
  {
   "cell_type": "code",
   "execution_count": 21,
   "metadata": {},
   "outputs": [
    {
     "name": "stdout",
     "output_type": "stream",
     "text": [
      "5.0\n",
      "2.581988897471611\n",
      "6.666666666666667\n",
      "3\n"
     ]
    }
   ],
   "source": [
    "#WAP TO FIND THE AVERAGE, MODE, STANDARD DEVIATION , VARIANCE OF ARRAY ELEMENT\n",
    "from scipy import stats\n",
    "\n",
    "a=np.arange(1,10)\n",
    "print(np.mean(a))\n",
    "print(np.std(a))\n",
    "print(np.var(a))\n",
    "\n",
    "b=[1,2,3,3,3,3,3]\n",
    "print(stats.mode(b)[0][0])"
   ]
  },
  {
   "cell_type": "code",
   "execution_count": 22,
   "metadata": {},
   "outputs": [
    {
     "name": "stdout",
     "output_type": "stream",
     "text": [
      "[0 1 2 3]\n"
     ]
    }
   ],
   "source": [
    "#IMPLEMRNT ANY ONE SORT USING NUMPY\n",
    "import numpy as np\n",
    "\n",
    "arr = np.array([3, 2, 0, 1])\n",
    "\n",
    "print(np.sort(arr)) \n",
    "\n"
   ]
  },
  {
   "cell_type": "code",
   "execution_count": null,
   "metadata": {},
   "outputs": [],
   "source": []
  }
 ],
 "metadata": {
  "kernelspec": {
   "display_name": "Python 3",
   "language": "python",
   "name": "python3"
  },
  "language_info": {
   "codemirror_mode": {
    "name": "ipython",
    "version": 3
   },
   "file_extension": ".py",
   "mimetype": "text/x-python",
   "name": "python",
   "nbconvert_exporter": "python",
   "pygments_lexer": "ipython3",
   "version": "3.9.0"
  }
 },
 "nbformat": 4,
 "nbformat_minor": 4
}

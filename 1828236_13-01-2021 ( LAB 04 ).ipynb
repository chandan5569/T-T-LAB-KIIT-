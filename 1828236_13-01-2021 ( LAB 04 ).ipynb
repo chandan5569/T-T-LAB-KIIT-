{
 "cells": [
  {
   "cell_type": "markdown",
   "metadata": {},
   "source": [
    "# DICTONARY"
   ]
  },
  {
   "cell_type": "code",
   "execution_count": 3,
   "metadata": {},
   "outputs": [],
   "source": [
    "x = { ' Tim': 18,1:6}"
   ]
  },
  {
   "cell_type": "code",
   "execution_count": 4,
   "metadata": {},
   "outputs": [
    {
     "data": {
      "text/plain": [
       "{' Tim': 18, 1: 6}"
      ]
     },
     "execution_count": 4,
     "metadata": {},
     "output_type": "execute_result"
    }
   ],
   "source": [
    "x"
   ]
  },
  {
   "cell_type": "code",
   "execution_count": 6,
   "metadata": {},
   "outputs": [
    {
     "name": "stdout",
     "output_type": "stream",
     "text": [
      "{'Tim': 18, 'Charlie': 12, 'Robert': 25}\n",
      "{'Tiffany': 22}\n"
     ]
    }
   ],
   "source": [
    "#Copying dictionary\n",
    "\n",
    "\n",
    "Dict = {'Tim': 18,'Charlie':12,'Tiffany':22,'Robert':25}\n",
    "\n",
    "Boys = {'Tim': 18,'Charlie':12,'Robert':25}\n",
    "Girls = {'Tiffany':22}\n",
    "studentX=Boys.copy()\n",
    "studentY=Girls.copy()\n",
    "print (studentX)\n",
    "print (studentY)"
   ]
  },
  {
   "cell_type": "markdown",
   "metadata": {},
   "source": [
    "# CLASS WORK"
   ]
  },
  {
   "cell_type": "code",
   "execution_count": 11,
   "metadata": {},
   "outputs": [
    {
     "name": "stdout",
     "output_type": "stream",
     "text": [
      "{'Tim': 18, 'Tiffany': 22, 'Robert': 25}\n"
     ]
    }
   ],
   "source": [
    "#deletion\n",
    "\n",
    "\n",
    "Dict = {'Tim': 18,'Charlie':12,'Tiffany':22,'Robert':25}\n",
    "\n",
    "del Dict ['Charlie']\n",
    "\n",
    "print (Dict)"
   ]
  },
  {
   "cell_type": "code",
   "execution_count": 9,
   "metadata": {},
   "outputs": [
    {
     "name": "stdout",
     "output_type": "stream",
     "text": [
      "{'Tim': 18, 'Charlie': 12, 'Tiffany': 22, 'Robert': 25, 'Sarah': 9}\n"
     ]
    }
   ],
   "source": [
    "#updation in dictonary\n",
    "\n",
    "Dict = {'Tim': 18,'Charlie':12,'Tiffany':22,'Robert':25}\n",
    "\n",
    "Dict.update({\"Sarah\":9})\n",
    "\n",
    "print (Dict)"
   ]
  },
  {
   "cell_type": "code",
   "execution_count": 13,
   "metadata": {},
   "outputs": [
    {
     "name": "stdout",
     "output_type": "stream",
     "text": [
      "{1: 'chandan', 2: 'kiit', 3: 'python', 4: 'world', 5: 'delhi', 7: 'chiku'}\n"
     ]
    }
   ],
   "source": [
    "#WAP TO PRINT A DICT WITH 7 KEYS, UPDATE THE 3RD KEY AND DELETE SECOND LAST KEY  FROM RIGHT\n",
    "\n",
    "x={1:'chandan',2:'kiit',3:'hello',4:'world',5:'delhi',6:'bbsr',7:'chiku'}\n",
    "\n",
    "x.update({3:'python'})\n",
    "\n",
    "del x[6]\n",
    "\n",
    "print(x)"
   ]
  },
  {
   "cell_type": "code",
   "execution_count": 16,
   "metadata": {},
   "outputs": [
    {
     "name": "stdout",
     "output_type": "stream",
     "text": [
      "yes\n"
     ]
    }
   ],
   "source": [
    "#WAP to Check if a given key already exists in a dictionary\n",
    "\n",
    "d ={1:'chandan',2:'kiit',3:'hello',4:'world',5:'delhi',6:'bbsr',7:'chiku'}\n",
    "\n",
    "def check(x):\n",
    "    \n",
    "  if x in d:\n",
    "    \n",
    "      print('yes')\n",
    "  else:\n",
    "    \n",
    "      print('no')\n",
    "            \n",
    "check(5)"
   ]
  },
  {
   "cell_type": "code",
   "execution_count": 19,
   "metadata": {},
   "outputs": [
    {
     "name": "stdout",
     "output_type": "stream",
     "text": [
      "{1: 1, 2: 4, 3: 27, 4: 256, 5: 3125, 6: 46656, 7: 823543, 8: 16777216, 9: 387420489}\n"
     ]
    }
   ],
   "source": [
    "# dictionary comprehension (finding the cube of the number)\n",
    "\n",
    "dict = {num: num**num for num in range(1, 10)}\n",
    "\n",
    "print(dict)"
   ]
  },
  {
   "cell_type": "code",
   "execution_count": 23,
   "metadata": {},
   "outputs": [
    {
     "data": {
      "text/plain": [
       "{1: 1,\n",
       " 2: 2,\n",
       " 3: 6,\n",
       " 4: 24,\n",
       " 5: 120,\n",
       " 6: 720,\n",
       " 7: 5040,\n",
       " 8: 40320,\n",
       " 9: 362880,\n",
       " 10: 3628800,\n",
       " 11: 39916800,\n",
       " 12: 479001600,\n",
       " 13: 6227020800,\n",
       " 14: 87178291200,\n",
       " 15: 1307674368000}"
      ]
     },
     "execution_count": 23,
     "metadata": {},
     "output_type": "execute_result"
    }
   ],
   "source": [
    "#Write a Python script to print a dictionary where the keys are numbers between 1 and 15 (both included) and the values are factorials of keys.\n",
    "\n",
    "\n",
    "import math\n",
    "\n",
    "f={i:math.factorial(i) for i in range(1,16)}\n",
    "  \n",
    "f\n",
    "\n"
   ]
  },
  {
   "cell_type": "code",
   "execution_count": 26,
   "metadata": {},
   "outputs": [
    {
     "data": {
      "text/plain": [
       "{1: 1,\n",
       " 2: 2,\n",
       " 3: 6,\n",
       " 4: 24,\n",
       " 5: 120,\n",
       " 6: 720,\n",
       " 7: 5040,\n",
       " 8: 40320,\n",
       " 9: 362880,\n",
       " 10: 3628800,\n",
       " 11: 39916800,\n",
       " 12: 479001600,\n",
       " 13: 6227020800,\n",
       " 14: 87178291200,\n",
       " 15: 1307674368000}"
      ]
     },
     "execution_count": 26,
     "metadata": {},
     "output_type": "execute_result"
    }
   ],
   "source": [
    "#without factorial function.\n",
    "\n",
    "def fact(x):\n",
    "    f=1\n",
    "    for i in range(1,x+1):\n",
    "        f=f*i\n",
    "    return(f)\n",
    "f={x:fact(x) for x in range(1,16)}\n",
    "f"
   ]
  },
  {
   "cell_type": "code",
   "execution_count": 24,
   "metadata": {},
   "outputs": [
    {
     "name": "stdout",
     "output_type": "stream",
     "text": [
      "1: chandan\n",
      "2: kiit\n",
      "3: hello\n",
      "4: world\n",
      "5: delhi\n",
      "6: bbsr\n",
      "7: chiku\n"
     ]
    }
   ],
   "source": [
    "#Write a Python program to sort a dictionary by key.\n",
    "\n",
    "\n",
    "d ={1:'chandan',2:'kiit',3:'hello',4:'world',5:'delhi',6:'bbsr',7:'chiku'}\n",
    "\n",
    "for i in sorted(d):\n",
    "    \n",
    "    print(\"%s: %s\" % (i, d[i]))"
   ]
  },
  {
   "cell_type": "code",
   "execution_count": 25,
   "metadata": {},
   "outputs": [
    {
     "name": "stdout",
     "output_type": "stream",
     "text": [
      "\n",
      " ['chem', 'Bio']\n"
     ]
    }
   ],
   "source": [
    "# Write a Python program to filter a dictionary based on values.\n",
    "\n",
    "d = {'Mon':'Phy','Tue':'chem','Wed':'Math','Thu':'Bio'}\n",
    "\n",
    "c = ['Tue','Thu'] #to filter the values out of key\n",
    "\n",
    "\n",
    "res = [d[i] for i in c if i in d]\n",
    "\n",
    "print('\\n',res)"
   ]
  },
  {
   "cell_type": "code",
   "execution_count": 31,
   "metadata": {},
   "outputs": [
    {
     "name": "stdout",
     "output_type": "stream",
     "text": [
      "ace\n",
      "acf\n",
      "ade\n",
      "adf\n",
      "bce\n",
      "bcf\n",
      "bde\n",
      "bdf\n"
     ]
    }
   ],
   "source": [
    "# Write a Python program to create and display all combinations of letters, selecting each letter from a different key in a dictionary.\n",
    "# a,b \n",
    "# c,d\n",
    "# e f\n",
    "# ace,acf,ade,adf,bce,bcf,bde,bdf\n",
    "\n",
    "x={'1':['a','b'], '2':['c','d'],'3':['e','f']}\n",
    "\n",
    "l1 = x.get('1')\n",
    "l2 = x.get('2')\n",
    "l3 = x.get('3')\n",
    "\n",
    "for i in range(2):\n",
    "    \n",
    "    for j in range(2):\n",
    "        \n",
    "        for k in range(2):\n",
    "            \n",
    "            print(l1[i]+l2[j]+l3[k])"
   ]
  },
  {
   "cell_type": "markdown",
   "metadata": {},
   "source": [
    "# HOME WORK"
   ]
  },
  {
   "cell_type": "code",
   "execution_count": 1,
   "metadata": {},
   "outputs": [
    {
     "name": "stdout",
     "output_type": "stream",
     "text": [
      "Dictionary={1: 83, 2: 48, 3: 99, 4: 98, 5: 36, 6: 72, 7: 16, 8: 10, 9: 65, 10: 10, 11: 57, 12: 69, 13: 37, 14: 43, 15: 29, 16: 57, 17: 17, 18: 61, 19: 23, 20: 48}\n",
      "Average of highest 3 values is 93.33333333333333\n"
     ]
    }
   ],
   "source": [
    "#Write a Python program to find the average of highest 3 values in a dictionary.\n",
    "\n",
    "import random\n",
    "dictionary={x:random.randint(x,100) for x in range(1,21) }\n",
    "values=[x for x in dictionary.values()]\n",
    "\n",
    "# SORTING in ascending order\n",
    "for i in range(0,len(values)):\n",
    "    for j in range (i,len(values)):\n",
    "        if values[i]>values[j]:\n",
    "            temp=values[i]\n",
    "            values[i]=values[j]\n",
    "            values[j]=temp\n",
    "            \n",
    "average=(values[-1]+values[-2]+values[-3])/3\n",
    "print(f\"Dictionary={dictionary}\")\n",
    "print(f\"Average of highest 3 values is {average}\")"
   ]
  },
  {
   "cell_type": "code",
   "execution_count": 2,
   "metadata": {},
   "outputs": [
    {
     "name": "stdout",
     "output_type": "stream",
     "text": [
      "Dictonary={1: 49, 2: 21, 3: 29, 4: 83, 5: 56, 6: 55, 7: 29, 8: 48, 9: 35, 10: 36, 11: 25, 12: 26, 13: 54, 14: 84, 15: 69, 16: 62, 17: 36, 18: 65, 19: 77, 20: 100}\n",
      "Top Five Items= [49, 21, 29, 83, 56]\n"
     ]
    }
   ],
   "source": [
    "#Write a Python program to get the top FIVE items in an inventry.\n",
    "\n",
    "import random\n",
    "dictionary={x:random.randint(x,100) for x in range(1,21) }\n",
    "values=[x for x in dictionary.values()]\n",
    "print(\"Dictonary={}\".format(dictionary))\n",
    "print(f\"Top Five Items= {values[:5]}\")"
   ]
  },
  {
   "cell_type": "code",
   "execution_count": 3,
   "metadata": {},
   "outputs": [
    {
     "name": "stdout",
     "output_type": "stream",
     "text": [
      "Original Dictionary:\n",
      " {'c': 'c', 9: '9', 'a': 'a', 'z': 'z', 1: '1'}\n",
      "Dictionary with ASCII values:\n",
      " {'c': 99, 9: 57, 'a': 97, 'z': 122, 1: 49}\n"
     ]
    }
   ],
   "source": [
    "#Write a Python program to replace dictionary values with their ASCII values.\n",
    "\n",
    "dictionary={'c':'c',9:'9','a':'a','z':'z',1:'1'}\n",
    "print(f'Original Dictionary:\\n {dictionary}')\n",
    "for i in dictionary.keys():\n",
    "    dictionary[i]=ord(dictionary[i])\n",
    "print(f'Dictionary with ASCII values:\\n {dictionary}')"
   ]
  },
  {
   "cell_type": "code",
   "execution_count": 4,
   "metadata": {},
   "outputs": [
    {
     "name": "stdout",
     "output_type": "stream",
     "text": [
      "p: Seventh item fomm the Beginning is 107, and from the End is 114\n",
      "q: Seventh item fomm the Beginning is 207, and from the End is 214\n",
      "r: Seventh item fomm the Beginning is 307, and from the End is 314\n",
      "p: Seventh item fomm the Beginning is 107, and from the End is 114\n",
      "q: Seventh item fomm the Beginning is 207, and from the End is 214\n",
      "r: Seventh item fomm the Beginning is 307, and from the End is 314\n"
     ]
    }
   ],
   "source": [
    "#Write a Python program to create a dictionary of keys p, q, and r where each key has as value a list from 101-120, 201-220, and 301-320 respectively. Display the seventh (both from beginning and end)value of each key from the dictionary\n",
    "\n",
    "dicPQR={'p':[x for x in range(101,121)],'q':[x for x in range(201,221)],'r':[x for x in range(301,321)]}\n",
    "for i in dicPQR.keys():\n",
    "    print(\"{}: Seventh item fomm the Beginning is {}, and from the End is {}\".format(i,dicPQR[i][6],dicPQR[i][-7]))\n",
    "dicPQR={'p':[x for x in range(101,121)],'q':[x for x in range(201,221)],'r':[x for x in range(301,321)]}\n",
    "for i in dicPQR.keys():\n",
    "    print(\"{}: Seventh item fomm the Beginning is {}, and from the End is {}\".format(i,dicPQR[i][6],dicPQR[i][-7]))"
   ]
  },
  {
   "cell_type": "code",
   "execution_count": null,
   "metadata": {},
   "outputs": [],
   "source": []
  }
 ],
 "metadata": {
  "kernelspec": {
   "display_name": "Python 3",
   "language": "python",
   "name": "python3"
  },
  "language_info": {
   "codemirror_mode": {
    "name": "ipython",
    "version": 3
   },
   "file_extension": ".py",
   "mimetype": "text/x-python",
   "name": "python",
   "nbconvert_exporter": "python",
   "pygments_lexer": "ipython3",
   "version": "3.7.4"
  }
 },
 "nbformat": 4,
 "nbformat_minor": 2
}

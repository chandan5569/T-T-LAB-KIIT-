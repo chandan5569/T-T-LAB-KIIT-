{
 "cells": [
  {
   "cell_type": "markdown",
   "metadata": {},
   "source": [
    "# USE OF TYPE "
   ]
  },
  {
   "cell_type": "code",
   "execution_count": 1,
   "metadata": {},
   "outputs": [
    {
     "data": {
      "text/plain": [
       "str"
      ]
     },
     "execution_count": 1,
     "metadata": {},
     "output_type": "execute_result"
    }
   ],
   "source": [
    "x=\"flower\"\n",
    "type(x)"
   ]
  },
  {
   "cell_type": "code",
   "execution_count": 2,
   "metadata": {},
   "outputs": [
    {
     "data": {
      "text/plain": [
       "complex"
      ]
     },
     "execution_count": 2,
     "metadata": {},
     "output_type": "execute_result"
    }
   ],
   "source": [
    "x=7j\n",
    "type(x)"
   ]
  },
  {
   "cell_type": "code",
   "execution_count": 3,
   "metadata": {},
   "outputs": [
    {
     "data": {
      "text/plain": [
       "list"
      ]
     },
     "execution_count": 3,
     "metadata": {},
     "output_type": "execute_result"
    }
   ],
   "source": [
    "x=['apple','bat']\n",
    "\n",
    "type(x)"
   ]
  },
  {
   "cell_type": "code",
   "execution_count": 4,
   "metadata": {},
   "outputs": [
    {
     "data": {
      "text/plain": [
       "tuple"
      ]
     },
     "execution_count": 4,
     "metadata": {},
     "output_type": "execute_result"
    }
   ],
   "source": [
    "x=('aaa','ggg')\n",
    "\n",
    "type(x)"
   ]
  },
  {
   "cell_type": "code",
   "execution_count": 5,
   "metadata": {},
   "outputs": [
    {
     "name": "stdout",
     "output_type": "stream",
     "text": [
      "h\n"
     ]
    }
   ],
   "source": [
    "#string as array\n",
    "\n",
    "x='chandan'\n",
    "\n",
    "print(x[1])"
   ]
  },
  {
   "cell_type": "markdown",
   "metadata": {},
   "source": [
    "# String"
   ]
  },
  {
   "cell_type": "code",
   "execution_count": 6,
   "metadata": {},
   "outputs": [
    {
     "name": "stdout",
     "output_type": "stream",
     "text": [
      "c\n",
      "h\n",
      "a\n",
      "n\n",
      "d\n",
      "a\n",
      "n\n"
     ]
    }
   ],
   "source": [
    "#looping through the string\n",
    "\n",
    "x='chandan'\n",
    "\n",
    "for i in x:\n",
    "    print(i)"
   ]
  },
  {
   "cell_type": "code",
   "execution_count": 11,
   "metadata": {},
   "outputs": [
    {
     "name": "stdout",
     "output_type": "stream",
     "text": [
      "7\n"
     ]
    }
   ],
   "source": [
    "#string length\n",
    "\n",
    "x='chandan'\n",
    "y=len(x)\n",
    "\n",
    "print(y)"
   ]
  },
  {
   "cell_type": "code",
   "execution_count": 12,
   "metadata": {},
   "outputs": [
    {
     "name": "stdout",
     "output_type": "stream",
     "text": [
      "True\n"
     ]
    }
   ],
   "source": [
    "#string is true or false\n",
    "\n",
    "x=\"abc\"\n",
    "y=\"abc\"\n",
    "print(x==y)"
   ]
  },
  {
   "cell_type": "code",
   "execution_count": 17,
   "metadata": {},
   "outputs": [
    {
     "name": "stdout",
     "output_type": "stream",
     "text": [
      "chandan14\n"
     ]
    }
   ],
   "source": [
    "#WAP to Remove Characters in String Except Alphabets\n",
    "\n",
    "import re \n",
    "\n",
    "#with use of re.sub function\n",
    "\n",
    "x='@chandan@14'\n",
    "\n",
    "y = re.sub('[\\W_]+','',x) \n",
    "\n",
    "print (y) "
   ]
  },
  {
   "cell_type": "code",
   "execution_count": 25,
   "metadata": {},
   "outputs": [
    {
     "name": "stdout",
     "output_type": "stream",
     "text": [
      "yes\n"
     ]
    }
   ],
   "source": [
    "#WAP TO CHECK WHETHER STRING IS PALLINDROME OR NOT.\n",
    "\n",
    "x='wow'\n",
    "\n",
    "y=x[::-1]\n",
    "\n",
    "if(x==y):\n",
    "    \n",
    "    print('yes')\n",
    "    \n",
    "else:\n",
    "    print('no')"
   ]
  },
  {
   "cell_type": "code",
   "execution_count": 21,
   "metadata": {},
   "outputs": [
    {
     "name": "stdout",
     "output_type": "stream",
     "text": [
      "{'c': 1, 'h': 2, 'a': 3, 'n': 3, 'd': 1, ' ': 2, 'k': 1, 'u': 1, 'm': 1, 'r': 1, 's': 1, 'i': 1, 'g': 1}\n"
     ]
    }
   ],
   "source": [
    "#WAP TO Find the Frequency of a Character\n",
    "\n",
    "def char_frequency(str1):\n",
    "    \n",
    "    dict = {}\n",
    "    \n",
    "    for n in str1:\n",
    "        keys = dict.keys()\n",
    "        if n in keys:\n",
    "            dict[n] += 1\n",
    "        else:\n",
    "            dict[n] = 1\n",
    "    return dict\n",
    "\n",
    "\n",
    "print(char_frequency('chandan kumar singh'))\n",
    "\n"
   ]
  },
  {
   "cell_type": "code",
   "execution_count": 24,
   "metadata": {},
   "outputs": [
    {
     "name": "stdout",
     "output_type": "stream",
     "text": [
      "aaaa\n",
      "bbbb\n",
      "cccc\n",
      "dddd\n"
     ]
    }
   ],
   "source": [
    "#WAP to sort the strings in dictonary order\n",
    "\n",
    "x=['aaaa','bbbb','cccc','dddd']\n",
    "\n",
    "x.sort()\n",
    "\n",
    "for i in x:\n",
    "    print(i)"
   ]
  },
  {
   "cell_type": "markdown",
   "metadata": {},
   "source": [
    "# TO-DO\n",
    "\n",
    "1.WAP TO Make a two-player Rock-Paper-Scissors game.\n",
    "\n",
    "2.WAP TO Copy String Without Using strcpy()\n",
    "\n",
    "3.Write a Python program to get a string made of the first 2 and the last 2 chars from a given a string. If the string length is less than 2, return instead of the empty string.\n",
    "\n",
    "4.Write a Python program to add 'ing' at the end of a given string (length should be at least 3). If the given string already ends with 'ing' then add 'ly' instead. If the string length of the given string is less than 3, leave it unchanged. \n",
    "\n",
    "5.Write a Python function that takes a list of words and returns the length of the shortest one"
   ]
  },
  {
   "cell_type": "code",
   "execution_count": 3,
   "metadata": {},
   "outputs": [
    {
     "name": "stdout",
     "output_type": "stream",
     "text": [
      "chandan\n"
     ]
    }
   ],
   "source": [
    "#2.WAP TO Copy String Without Using strcpy()\n",
    "\n",
    "x='chandan'\n",
    "y=x[:]\n",
    "print(y)"
   ]
  },
  {
   "cell_type": "code",
   "execution_count": 4,
   "metadata": {},
   "outputs": [
    {
     "name": "stdout",
     "output_type": "stream",
     "text": [
      "chan\n"
     ]
    }
   ],
   "source": [
    "#3.Write a Python program to get a string made of the first 2 and the last 2 chars from a given a string. If the string length is less than 2, return instead of the empty string.\n",
    "\n",
    "\n",
    "x=\"chandan\"\n",
    "\n",
    "y=x[:2]+x[-2:]\n",
    "\n",
    "print(y)"
   ]
  },
  {
   "cell_type": "code",
   "execution_count": 6,
   "metadata": {},
   "outputs": [
    {
     "name": "stdout",
     "output_type": "stream",
     "text": [
      "chandaning\n",
      "singly\n"
     ]
    }
   ],
   "source": [
    "#.Write a Python program to add 'ing' at the end of a given string (length should be at least 3). If the given string already ends with 'ing' then add 'ly' instead. If the string length of the given string is less than 3, leave it unchanged.\n",
    "\n",
    "def ft(str1):\n",
    "  l = len(str1)\n",
    "\n",
    "  if l > 2:\n",
    "    if str1[-3:] == 'ing':\n",
    "      str1 += 'ly'\n",
    "    else:\n",
    "      str1 += 'ing'\n",
    "\n",
    "  return str1\n",
    "\n",
    "\n",
    "print(ft('chandan'))\n",
    "\n",
    "print(ft('sing'))"
   ]
  },
  {
   "cell_type": "code",
   "execution_count": 8,
   "metadata": {},
   "outputs": [
    {
     "ename": "TypeError",
     "evalue": "'function' object is not subscriptable",
     "output_type": "error",
     "traceback": [
      "\u001b[1;31m---------------------------------------------------------------------------\u001b[0m",
      "\u001b[1;31mTypeError\u001b[0m                                 Traceback (most recent call last)",
      "\u001b[1;32m<ipython-input-8-844fd993bffa>\u001b[0m in \u001b[0;36m<module>\u001b[1;34m\u001b[0m\n\u001b[0;32m      8\u001b[0m     \u001b[1;32mreturn\u001b[0m \u001b[0ml\u001b[0m\u001b[1;33m[\u001b[0m\u001b[1;36m0\u001b[0m\u001b[1;33m]\u001b[0m\u001b[1;33m\u001b[0m\u001b[1;33m\u001b[0m\u001b[0m\n\u001b[0;32m      9\u001b[0m \u001b[1;33m\u001b[0m\u001b[0m\n\u001b[1;32m---> 10\u001b[1;33m \u001b[0mprint\u001b[0m\u001b[1;33m(\u001b[0m\u001b[0mft\u001b[0m\u001b[1;33m[\u001b[0m\u001b[1;34m'ch'\u001b[0m\u001b[1;33m,\u001b[0m\u001b[1;34m'fgtj'\u001b[0m\u001b[1;33m,\u001b[0m\u001b[1;34m'tttttt'\u001b[0m\u001b[1;33m]\u001b[0m\u001b[1;33m)\u001b[0m\u001b[1;33m\u001b[0m\u001b[1;33m\u001b[0m\u001b[0m\n\u001b[0m",
      "\u001b[1;31mTypeError\u001b[0m: 'function' object is not subscriptable"
     ]
    }
   ],
   "source": [
    "#Write a Python function that takes a list of words and returns the length of the shortest one\n",
    "\n",
    "def ft(words_list):  \n",
    "    l = []  \n",
    "    for n in l1:  \n",
    "        l.append((len(n), n))  \n",
    "    l.sort()  \n",
    "    return l[0]\n",
    "\n",
    "print(ft['ch','fgtj','tttttt'])"
   ]
  },
  {
   "cell_type": "markdown",
   "metadata": {},
   "source": [
    "# LIST ( LAB-03)"
   ]
  },
  {
   "cell_type": "code",
   "execution_count": 9,
   "metadata": {},
   "outputs": [],
   "source": [
    "# Representation of list like ['chiku','miku']\n",
    "\n",
    "#empty list x=[]\n",
    "\n",
    "#example of nested list\n",
    "\n",
    "#x=['ghgh','tgruguj',0,[1,4,5]]\n",
    "\n"
   ]
  },
  {
   "cell_type": "code",
   "execution_count": 13,
   "metadata": {},
   "outputs": [
    {
     "name": "stdout",
     "output_type": "stream",
     "text": [
      "c\n"
     ]
    }
   ],
   "source": [
    "#List indexing\n",
    "\n",
    "my_list = ['a', 'b', 'c', 'd', 'e']\n",
    "\n",
    "print(my_list[2])"
   ]
  },
  {
   "cell_type": "code",
   "execution_count": 16,
   "metadata": {},
   "outputs": [
    {
     "name": "stdout",
     "output_type": "stream",
     "text": [
      "e\n"
     ]
    }
   ],
   "source": [
    "#negetive indexing\n",
    "\n",
    "my_list = ['a', 'b', 'c', 'd', 'e']\n",
    "\n",
    "print(my_list[-1])"
   ]
  },
  {
   "cell_type": "code",
   "execution_count": 18,
   "metadata": {},
   "outputs": [
    {
     "name": "stdout",
     "output_type": "stream",
     "text": [
      "['ss', 'b', 'c', 'd', 'e']\n"
     ]
    }
   ],
   "source": [
    "#change the element to the list\n",
    "\n",
    "#using indexing and using append function we can do\n",
    "\n",
    "\n",
    "my_list = ['a', 'b', 'c', 'd', 'e']\n",
    "\n",
    "my_list[0]='ss'\n",
    "\n",
    "print(my_list)"
   ]
  },
  {
   "cell_type": "code",
   "execution_count": 20,
   "metadata": {},
   "outputs": [
    {
     "name": "stdout",
     "output_type": "stream",
     "text": [
      "[2, 1, 6, 9]\n"
     ]
    }
   ],
   "source": [
    "a = [2, 4, 6, 8]\n",
    "\n",
    "a[1]=1\n",
    "\n",
    "a[3]=9\n",
    "\n",
    "print(a)"
   ]
  },
  {
   "cell_type": "markdown",
   "metadata": {},
   "source": [
    "# List properties and functions\n",
    "\n",
    "append() - Add an element to the end of the list\n",
    "\n",
    "extend() - Add all elements of a list to the another list\n",
    "\n",
    "insert() - Insert an item at the defined index\n",
    "\n",
    "remove() - Removes an item from the list\n",
    "\n",
    "pop() - Removes and returns an element at the given index\n",
    "\n",
    "clear() - Removes all items from the list\n",
    "\n",
    "index() - Returns the index of the first matched item\n",
    "\n",
    "count() - Returns the count of the number of items passed as an argument\n",
    "\n",
    "sort() - Sort items in a list in ascending order\n",
    "\n",
    "reverse() - Reverse the order"
   ]
  },
  {
   "cell_type": "code",
   "execution_count": 26,
   "metadata": {},
   "outputs": [
    {
     "name": "stdout",
     "output_type": "stream",
     "text": [
      "2222\n"
     ]
    }
   ],
   "source": [
    "# Write a Python program to get the largest number from a list.\n",
    "\n",
    "x=[85,34,66,1,3,5,2222]\n",
    "\n",
    "x.sort()\n",
    "\n",
    "print(x[-1])"
   ]
  },
  {
   "cell_type": "code",
   "execution_count": 28,
   "metadata": {},
   "outputs": [
    {
     "name": "stdout",
     "output_type": "stream",
     "text": [
      "85\n"
     ]
    }
   ],
   "source": [
    "#without using sort function  \n",
    "\n",
    "\n",
    "y=[85,34,66,1,3,5,1]\n",
    "\n",
    "\n",
    "max = y[0]\n",
    "\n",
    "for i in y:\n",
    "    \n",
    "    if max<i:\n",
    "        max=i\n",
    "        \n",
    "        \n",
    "print(max)"
   ]
  },
  {
   "cell_type": "code",
   "execution_count": 29,
   "metadata": {},
   "outputs": [
    {
     "name": "stdout",
     "output_type": "stream",
     "text": [
      "195\n"
     ]
    }
   ],
   "source": [
    "# Write a Python program to sum all the items in a list\n",
    "\n",
    "y=[85,34,66,1,3,5,1]\n",
    "\n",
    "s=0\n",
    "\n",
    "for i in y:\n",
    "    \n",
    "    s=s+i\n",
    "    \n",
    "print(s)"
   ]
  },
  {
   "cell_type": "code",
   "execution_count": 32,
   "metadata": {},
   "outputs": [
    {
     "name": "stdout",
     "output_type": "stream",
     "text": [
      "[85, 66, 34, 5, 3, 1, 1]\n"
     ]
    }
   ],
   "source": [
    " # Write a Python program to get a list sorted in decreasing order\n",
    "    \n",
    "y=[85,34,66,1,3,5,1]\n",
    "\n",
    "y.sort(reverse=True)\n",
    "\n",
    "print(y)"
   ]
  },
  {
   "cell_type": "code",
   "execution_count": 33,
   "metadata": {},
   "outputs": [
    {
     "name": "stdout",
     "output_type": "stream",
     "text": [
      "[85, 34, 66, 1, 3, 5, 1]\n"
     ]
    }
   ],
   "source": [
    "# Write a Python program to clone or copy a list.\n",
    "\n",
    "z=[85,34,66,1,3,5,1]\n",
    "\n",
    "d=[]\n",
    "\n",
    "for i in z:\n",
    "    \n",
    "    d.append(i)\n",
    "    \n",
    "print(d)\n",
    "    \n",
    "    "
   ]
  },
  {
   "cell_type": "code",
   "execution_count": 43,
   "metadata": {},
   "outputs": [
    {
     "ename": "SyntaxError",
     "evalue": "invalid syntax (<ipython-input-43-32c5b23a792d>, line 19)",
     "output_type": "error",
     "traceback": [
      "\u001b[1;36m  File \u001b[1;32m\"<ipython-input-43-32c5b23a792d>\"\u001b[1;36m, line \u001b[1;32m19\u001b[0m\n\u001b[1;33m    print(funt([85,34,66,1,3,5,1]))\u001b[0m\n\u001b[1;37m        ^\u001b[0m\n\u001b[1;31mSyntaxError\u001b[0m\u001b[1;31m:\u001b[0m invalid syntax\n"
     ]
    }
   ],
   "source": [
    "# Write a Python program to get the frequency of the elements in a list.\n",
    "\n",
    "def funt(my_list): \n",
    "  \n",
    "    # Creating an empty dictionary  \n",
    "    freq = {} \n",
    "    for item in my_list: \n",
    "        if (item in freq): \n",
    "            freq[item] += 1\n",
    "        else: \n",
    "            freq[item] = 1\n",
    "  \n",
    "    for key, value in freq.items(): \n",
    "        print (\"% d : % d\"%(key, value)\n",
    "               \n",
    "               \n",
    "\n",
    "               \n",
    "print(funt([85,34,66,1,3,5,1]))\n",
    "        "
   ]
  },
  {
   "cell_type": "markdown",
   "metadata": {},
   "source": [
    "# Write a Python program to split a list of 20 elements after every 4th element\n",
    "\n",
    "# Write a Python program to find common items from two lists.\n",
    "\n",
    "# Write a Python program to check whether a list contains a sublist\n",
    "\n",
    "# WAP TO JOIN 2 LIST AND FIND THE SMALEST  ELEMENT FROM THE THIRD LIST\n",
    "\n",
    "# WAP TO  SEPARATE THE STRING VALUES FROM A LIST WITH DIFFRENT DATATYPES AND ALSO COUNT THEIR FREQUENCY"
   ]
  },
  {
   "cell_type": "code",
   "execution_count": null,
   "metadata": {},
   "outputs": [],
   "source": []
  }
 ],
 "metadata": {
  "kernelspec": {
   "display_name": "Python 3",
   "language": "python",
   "name": "python3"
  },
  "language_info": {
   "codemirror_mode": {
    "name": "ipython",
    "version": 3
   },
   "file_extension": ".py",
   "mimetype": "text/x-python",
   "name": "python",
   "nbconvert_exporter": "python",
   "pygments_lexer": "ipython3",
   "version": "3.7.4"
  }
 },
 "nbformat": 4,
 "nbformat_minor": 2
}

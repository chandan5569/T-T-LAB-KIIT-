{
 "cells": [
  {
   "cell_type": "code",
   "execution_count": 1,
   "metadata": {},
   "outputs": [],
   "source": [
    "tup1 = ('physics', 'chemistry', 'biology', 'english',97, 100,88,92)"
   ]
  },
  {
   "cell_type": "code",
   "execution_count": 2,
   "metadata": {},
   "outputs": [
    {
     "data": {
      "text/plain": [
       "('physics', 'chemistry', 'biology', 'english', 97, 100, 88, 92)"
      ]
     },
     "execution_count": 2,
     "metadata": {},
     "output_type": "execute_result"
    }
   ],
   "source": [
    "tup1"
   ]
  },
  {
   "cell_type": "code",
   "execution_count": 3,
   "metadata": {},
   "outputs": [],
   "source": [
    "tup1 = ('physics', 'chemistry', 'biology', 'english',97, 100,88,92)\n",
    "tup2 = (1, 2, 3, 4, 5 )"
   ]
  },
  {
   "cell_type": "code",
   "execution_count": 5,
   "metadata": {},
   "outputs": [
    {
     "name": "stdout",
     "output_type": "stream",
     "text": [
      "('physics', 'chemistry', 'biology', 'english', 97, 100, 88, 92, 1, 2, 3, 4, 5)\n"
     ]
    }
   ],
   "source": [
    "tup3 = tup1 + tup2\n",
    "print (tup3)"
   ]
  },
  {
   "cell_type": "code",
   "execution_count": 6,
   "metadata": {},
   "outputs": [
    {
     "name": "stdout",
     "output_type": "stream",
     "text": [
      "8\n"
     ]
    }
   ],
   "source": [
    "print(len(tup1))"
   ]
  },
  {
   "cell_type": "code",
   "execution_count": 7,
   "metadata": {},
   "outputs": [
    {
     "name": "stdout",
     "output_type": "stream",
     "text": [
      "True\n"
     ]
    }
   ],
   "source": [
    "tupf = (\"apple\", \"banana\", \"cherry\")\n",
    "print('cherry' in tupf)"
   ]
  },
  {
   "cell_type": "code",
   "execution_count": 10,
   "metadata": {},
   "outputs": [
    {
     "name": "stdout",
     "output_type": "stream",
     "text": [
      "(2, 3, 4)\n"
     ]
    }
   ],
   "source": [
    "#WAP TO PICK THE 3RD , 4TH N 5TH OBJECT AND CREATE ANOTHER TUPPLE WITH THE SAME.\n",
    "\n",
    "l = []\n",
    "tupa = (\"apple\", \"banana\", \"cherry\", \"mango\", \"grapes\")\n",
    "for i in range(2,len(tupa)):\n",
    "    l.append(i)\n",
    "l\n",
    "tupb = tuple(l)\n",
    "print(tupb)"
   ]
  },
  {
   "cell_type": "code",
   "execution_count": 11,
   "metadata": {},
   "outputs": [
    {
     "name": "stdout",
     "output_type": "stream",
     "text": [
      "4\n"
     ]
    }
   ],
   "source": [
    " #Counts the number of occurrences of  an item  from a tuple of min 10 elements.\n",
    "    \n",
    "def countEl(tup, x): \n",
    "    count = 0\n",
    "    for ele in tup: \n",
    "        if (ele == x): \n",
    "            count = count + 1\n",
    "    return count \n",
    "\n",
    "tupc = (10, 8, 5, 2, 10, 15, 10, 8, 5, 8, 8, 2) \n",
    "el = 8\n",
    "print(countEl(tupc, el))"
   ]
  },
  {
   "cell_type": "code",
   "execution_count": 15,
   "metadata": {},
   "outputs": [
    {
     "name": "stdout",
     "output_type": "stream",
     "text": [
      "(35, 70, 105, 140, 175, 210, 245, 280, 315)\n"
     ]
    }
   ],
   "source": [
    "#Write a Python program calculate the product, multiplying all the numbers  with 35\n",
    "tup4=()\n",
    "for ele in tup:\n",
    "    \n",
    "  prod=ele*35\n",
    "\n",
    "  tup4=tup4+(prod,)\n",
    "\n",
    "print(tup4)\n"
   ]
  },
  {
   "cell_type": "code",
   "execution_count": 16,
   "metadata": {},
   "outputs": [
    {
     "name": "stdout",
     "output_type": "stream",
     "text": [
      "Enter a number for replacement:10\n",
      "[(10, 20, 10), (40, 50, 10), (70, 80, 10)]\n"
     ]
    }
   ],
   "source": [
    "\"\"\" Write a Python program to replace last value of tuples in a list.\n",
    "Sample list: [(10, 20, 40), (40, 50, 60), (70, 80, 90)]\n",
    "Expected Output: [(10, 20, 100), (40, 50, 100), (70, 80, 100)]\n",
    "\"\"\"\n",
    "l=[(10, 20, 40), (40, 50, 60), (70, 80, 90)]\n",
    "newl=[]\n",
    "x=int(input(\"Enter a number for replacement:\"))\n",
    "for i in l:\n",
    "  temp=list(i)\n",
    "  temp[-1]=x\n",
    "  newl.append(tuple(temp))\n",
    "\n",
    "print(newl)"
   ]
  },
  {
   "cell_type": "code",
   "execution_count": null,
   "metadata": {},
   "outputs": [],
   "source": []
  }
 ],
 "metadata": {
  "kernelspec": {
   "display_name": "Python 3",
   "language": "python",
   "name": "python3"
  },
  "language_info": {
   "codemirror_mode": {
    "name": "ipython",
    "version": 3
   },
   "file_extension": ".py",
   "mimetype": "text/x-python",
   "name": "python",
   "nbconvert_exporter": "python",
   "pygments_lexer": "ipython3",
   "version": "3.7.4"
  }
 },
 "nbformat": 4,
 "nbformat_minor": 2
}

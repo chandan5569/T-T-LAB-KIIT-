{
 "cells": [
  {
   "cell_type": "markdown",
   "metadata": {},
   "source": [
    "# Class and Objects"
   ]
  },
  {
   "cell_type": "code",
   "execution_count": 1,
   "metadata": {},
   "outputs": [
    {
     "name": "stdout",
     "output_type": "stream",
     "text": [
      "Bird is ready\n",
      "Penguin is ready\n",
      "Penguin\n",
      "Swim faster\n",
      "Run faster\n"
     ]
    }
   ],
   "source": [
    "class Bird:\n",
    "    \n",
    "    def __init__(self):\n",
    "        print(\"Bird is ready\")\n",
    "\n",
    "    def whoisThis(self):\n",
    "        print(\"Bird\")\n",
    "\n",
    "    def swim(self):\n",
    "        print(\"Swim faster\")\n",
    "\n",
    "# child class\n",
    "class Penguin(Bird):\n",
    "\n",
    "    def __init__(self):\n",
    "        # call super() function\n",
    "        super().__init__()\n",
    "        print(\"Penguin is ready\")\n",
    "\n",
    "    def whoisThis(self):\n",
    "        print(\"Penguin\")\n",
    "\n",
    "    def run(self):\n",
    "        print(\"Run faster\")\n",
    "\n",
    "peggy = Penguin()\n",
    "peggy.whoisThis()\n",
    "peggy.swim()\n",
    "peggy.run()"
   ]
  },
  {
   "cell_type": "markdown",
   "metadata": {},
   "source": [
    "# Problems"
   ]
  },
  {
   "cell_type": "code",
   "execution_count": 2,
   "metadata": {},
   "outputs": [
    {
     "name": "stdout",
     "output_type": "stream",
     "text": [
      "Enter string: chandan\n",
      "String is:\n",
      "chandan\n"
     ]
    }
   ],
   "source": [
    "#WAP that creates a class with a single method.\n",
    "\n",
    "\n",
    "class print1():\n",
    "    def __init__(self):\n",
    "        self.string=\"\"\n",
    " \n",
    "    def get(self):\n",
    "        self.string=input(\"Enter string: \")\n",
    " \n",
    "    def put(self):\n",
    "        print(\"String is:\")\n",
    "        print(self.string)\n",
    " \n",
    "obj=print1()\n",
    "\n",
    "obj.get()\n",
    "\n",
    "obj.put()"
   ]
  },
  {
   "cell_type": "code",
   "execution_count": 4,
   "metadata": {},
   "outputs": [
    {
     "name": "stdout",
     "output_type": "stream",
     "text": [
      "chandan\n"
     ]
    }
   ],
   "source": [
    "#WAP to create a class.\n",
    "\n",
    "\n",
    "class Test:\n",
    "     \n",
    "     \n",
    "    def fun(self):\n",
    "        \n",
    "        print(\"chandan\")\n",
    " \n",
    "\n",
    "obj = Test()\n",
    "\n",
    "obj.fun()"
   ]
  },
  {
   "cell_type": "code",
   "execution_count": 9,
   "metadata": {},
   "outputs": [
    {
     "name": "stdout",
     "output_type": "stream",
     "text": [
      "1\n",
      "chandan\n",
      "2\n",
      "kumar\n",
      "3\n",
      "singh\n",
      "Number of object is:  3\n"
     ]
    }
   ],
   "source": [
    "#WAP TO COUNT NO. OF OBJECTS CREATED.\n",
    "\n",
    "\n",
    "class obj:\n",
    "    \n",
    "    count = 0\n",
    "    \n",
    "    def __init__(self,id,name):\n",
    "        \n",
    "    \n",
    "        self.id = id\n",
    "        \n",
    "        self.name = name\n",
    "        \n",
    "        obj.count +=1\n",
    "        \n",
    "        print(self.id)\n",
    "        \n",
    "        print(self.name)\n",
    "\n",
    "o1 = obj(1,'chandan')\n",
    "\n",
    "o2 = obj(2,'kumar')\n",
    "\n",
    "o3 = obj(3,'singh')\n",
    "\n",
    "print('Number of object is: ' ,obj.count)"
   ]
  },
  {
   "cell_type": "code",
   "execution_count": 15,
   "metadata": {},
   "outputs": [
    {
     "name": "stdout",
     "output_type": "stream",
     "text": [
      "FIRST DISTANCE\n",
      "Enter dist in km 1: 2\n",
      "Enter dist m 1: 4\n",
      "\n",
      "SECOND DISTANCE\n",
      "Enter dist in km 2: 2\n",
      "Enter dist in m 2: 3\n",
      "\n",
      "SUM OF THE DISTANCES IS 4 KM, 7.0 M.\n"
     ]
    }
   ],
   "source": [
    "#Python program to add two distances\n",
    "\n",
    "print(\"FIRST DISTANCE\")\n",
    "\n",
    "xkm=int(input(\"Enter dist in km 1: \"))\n",
    "\n",
    "xm=float(input(\"Enter dist m 1: \"))\n",
    "\n",
    "print(\"\\nSECOND DISTANCE\")\n",
    "\n",
    "ykm=int(input(\"Enter dist in km 2: \"))\n",
    "\n",
    "ym=float(input(\"Enter dist in m 2: \"))\n",
    "\n",
    "km = xkm + ykm\n",
    "\n",
    "m = float(xm+ym)\n",
    "\n",
    "while m>=1000:\n",
    "    \n",
    "    km = km+1\n",
    "    m = m-1000\n",
    "    \n",
    "print(\"\\nSUM OF THE DISTANCES IS {0} KM, {1} M.\".format(km, m))"
   ]
  },
  {
   "cell_type": "code",
   "execution_count": null,
   "metadata": {},
   "outputs": [],
   "source": []
  }
 ],
 "metadata": {
  "kernelspec": {
   "display_name": "Python 3",
   "language": "python",
   "name": "python3"
  },
  "language_info": {
   "codemirror_mode": {
    "name": "ipython",
    "version": 3
   },
   "file_extension": ".py",
   "mimetype": "text/x-python",
   "name": "python",
   "nbconvert_exporter": "python",
   "pygments_lexer": "ipython3",
   "version": "3.9.0"
  }
 },
 "nbformat": 4,
 "nbformat_minor": 4
}

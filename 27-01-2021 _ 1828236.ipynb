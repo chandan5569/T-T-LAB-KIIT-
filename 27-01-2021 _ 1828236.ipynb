{
 "cells": [
  {
   "cell_type": "markdown",
   "metadata": {},
   "source": [
    "# CHANDAN KUMAR SINGH\n",
    "\n",
    "# 1828236"
   ]
  },
  {
   "cell_type": "code",
   "execution_count": 16,
   "metadata": {},
   "outputs": [
    {
     "name": "stdout",
     "output_type": "stream",
     "text": [
      "Enter the number of lines:5\n",
      "**********\n",
      "****  ****\n",
      "***    ***\n",
      "**      **\n",
      "*        *\n"
     ]
    }
   ],
   "source": [
    "#Pattern 1.\n",
    "\n",
    "\n",
    "def pat(n):\n",
    "    for i in range(n,0,-1):\n",
    "        print('*'*i+' '*((5-i)*2)+'*'*i)\n",
    "x=int(input('Enter the number of lines:'))\n",
    "pat(x)"
   ]
  },
  {
   "cell_type": "code",
   "execution_count": 6,
   "metadata": {},
   "outputs": [
    {
     "name": "stdout",
     "output_type": "stream",
     "text": [
      "False\n"
     ]
    }
   ],
   "source": [
    "#Perfect number.\n",
    "\n",
    "\n",
    "def perfect_number(n):\n",
    "    sum = 0\n",
    "    for x in range(1, n):\n",
    "        if n % x == 0:\n",
    "            sum += x\n",
    "    return sum == n\n",
    "print(perfect_number(10))"
   ]
  },
  {
   "cell_type": "code",
   "execution_count": 10,
   "metadata": {},
   "outputs": [
    {
     "name": "stdout",
     "output_type": "stream",
     "text": [
      "Enter a number: 153\n",
      "153 is an Armstrong number\n"
     ]
    }
   ],
   "source": [
    "#Armstrong number\n",
    "\n",
    "\n",
    "num = int(input(\"Enter a number: \"))  \n",
    "sum = 0  \n",
    "temp = num  \n",
    "  \n",
    "while temp > 0:  \n",
    "   digit = temp % 10  \n",
    "   sum += digit ** 3  \n",
    "   temp //= 10  \n",
    "  \n",
    "if num == sum:  \n",
    "   print(num,\"is an Armstrong number\")  \n",
    "else:  \n",
    "   print(num,\"is not an Armstrong number\")"
   ]
  },
  {
   "cell_type": "code",
   "execution_count": 13,
   "metadata": {},
   "outputs": [
    {
     "name": "stdout",
     "output_type": "stream",
     "text": [
      "Enter temperature in fahrenheit: 92.6\n",
      "92.60 Fahrenheit is: 33.67 Celsius\n"
     ]
    }
   ],
   "source": [
    "#Faherneit to celcius.\n",
    "\n",
    "def conv(fahrenheit):\n",
    "    \n",
    "    \n",
    "    celsius = (fahrenheit - 32) * 5/9\n",
    "    print('%.2f Fahrenheit is: %0.2f Celsius' %(fahrenheit, celsius))\n",
    "    \n",
    "fahrenheit = float(input(\"Enter temperature in fahrenheit: \"))\n",
    "\n",
    "conv(fahrenheit)"
   ]
  },
  {
   "cell_type": "code",
   "execution_count": 33,
   "metadata": {},
   "outputs": [
    {
     "name": "stdout",
     "output_type": "stream",
     "text": [
      "Enter length:4.5\n",
      "Enter breadth:3\n",
      "Enter height:2\n",
      "Surface area of the cuboid is 52954.7328cm^2\n"
     ]
    }
   ],
   "source": [
    "#Total surafce area of cuboid.\n",
    "\n",
    "def sa(a,b,c):\n",
    "    a=a*30.48\n",
    "    b=b*30.48\n",
    "    c=c*30.48\n",
    "    s=2*(a*b+b*c+c*a)\n",
    "    print('Surface area of the cuboid is '+str(s)+'cm^2')\n",
    "\n",
    "l=float(input('Enter length:'))\n",
    "b=float(input('Enter breadth:'))\n",
    "h=float(input('Enter height:'))\n",
    "sa(l,b,h)\n",
    "    \n",
    "    "
   ]
  },
  {
   "cell_type": "code",
   "execution_count": 30,
   "metadata": {},
   "outputs": [
    {
     "name": "stdout",
     "output_type": "stream",
     "text": [
      "  1 \n",
      " 3 3 \n",
      "5 5 5 \n"
     ]
    }
   ],
   "source": [
    "#Pattern 3\n",
    "\n",
    "def fun(n):\n",
    "    c=1\n",
    "    for j in range(1, n + 1):\n",
    "        for k in range(n-j):\n",
    "            print(\" \",end=\"\")\n",
    "        for i in range(1, j + 1):\n",
    "            print(c, end = \" \")\n",
    "        c= c+2 \n",
    "        print(\"\")\n",
    "fun(3)  "
   ]
  },
  {
   "cell_type": "code",
   "execution_count": 32,
   "metadata": {},
   "outputs": [
    {
     "name": "stdout",
     "output_type": "stream",
     "text": [
      "**********\n",
      "****  ****\n",
      "***    ***\n",
      "**      **\n",
      "*        *\n",
      "          \n",
      "*        *\n",
      "**      **\n",
      "***    ***\n",
      "****  ****\n",
      "**********\n"
     ]
    }
   ],
   "source": [
    "#Patter 4\n",
    "\n",
    "def pat(n):\n",
    "    for i in range(n,0,-1):\n",
    "        print('*'*i+' '*((n-i)*2)+'*'*i)\n",
    "    for i in range(n+1):\n",
    "        print('*'*i+' '*((n-i)*2)+'*'*i)\n",
    "pat(5)"
   ]
  },
  {
   "cell_type": "code",
   "execution_count": 34,
   "metadata": {},
   "outputs": [
    {
     "name": "stdout",
     "output_type": "stream",
     "text": [
      "010100"
     ]
    }
   ],
   "source": [
    "#decimal to binary.\n",
    "\n",
    "def dtob(num):\n",
    "     \n",
    "    if num >= 1:\n",
    "        dtob(num // 2)\n",
    "    print(num % 2, end = '')\n",
    "    \n",
    "num=20\n",
    "\n",
    "dtob(num)"
   ]
  },
  {
   "cell_type": "code",
   "execution_count": 35,
   "metadata": {},
   "outputs": [
    {
     "name": "stdout",
     "output_type": "stream",
     "text": [
      "The ASCII value of 'p' is 112\n"
     ]
    }
   ],
   "source": [
    "#ascii program.\n",
    "\n",
    "\n",
    "def asci(c):\n",
    "    \n",
    "    \n",
    "    print(\"The ASCII value of '\" + c + \"' is\", ord(c))\n",
    "    \n",
    "inp = 'p'\n",
    "\n",
    "asci(inp)"
   ]
  },
  {
   "cell_type": "code",
   "execution_count": 37,
   "metadata": {},
   "outputs": [
    {
     "name": "stdout",
     "output_type": "stream",
     "text": [
      "The L.C.M. is 20\n"
     ]
    }
   ],
   "source": [
    "#LCM OF TWO NUMBERS.\n",
    "\n",
    "def lcm(x, y):\n",
    "\n",
    "   # choose the greater number\n",
    "   if x > y:\n",
    "       greater = x\n",
    "   else:\n",
    "       greater = y\n",
    "\n",
    "   while(True):\n",
    "       if((greater % x == 0) and (greater % y == 0)):\n",
    "           lcm = greater\n",
    "           break\n",
    "       greater += 1\n",
    "\n",
    "   return lcm\n",
    "\n",
    "num1 = 10\n",
    "num2 = 20\n",
    "\n",
    "print(\"The L.C.M. is\", lcm(num1, num2))"
   ]
  },
  {
   "cell_type": "code",
   "execution_count": 39,
   "metadata": {},
   "outputs": [
    {
     "name": "stdout",
     "output_type": "stream",
     "text": [
      "    A\n",
      "\n",
      "   ABC\n",
      "\n",
      "  ABCDE\n",
      "\n",
      " ABCDEFG\n",
      "\n",
      "ABCDEFGHI\n",
      "\n"
     ]
    }
   ],
   "source": [
    "#PATTERN-5.\n",
    "\n",
    "a=5\n",
    "start=65\n",
    "end=start\n",
    "for i in range(1,6):\n",
    "  for j in range(1,a):\n",
    "    print(\" \",end='')\n",
    "  a=a-1\n",
    "  \n",
    "  for k in range(start,end+1):\n",
    "    print(chr(k),end='')\n",
    "  end=end+2\n",
    "  print(\"\\n\")"
   ]
  },
  {
   "cell_type": "code",
   "execution_count": null,
   "metadata": {},
   "outputs": [],
   "source": []
  }
 ],
 "metadata": {
  "kernelspec": {
   "display_name": "Python 3",
   "language": "python",
   "name": "python3"
  },
  "language_info": {
   "codemirror_mode": {
    "name": "ipython",
    "version": 3
   },
   "file_extension": ".py",
   "mimetype": "text/x-python",
   "name": "python",
   "nbconvert_exporter": "python",
   "pygments_lexer": "ipython3",
   "version": "3.7.4"
  }
 },
 "nbformat": 4,
 "nbformat_minor": 2
}

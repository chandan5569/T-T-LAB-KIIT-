{
 "cells": [
  {
   "cell_type": "markdown",
   "metadata": {},
   "source": [
    "# CHANDAN KUMAR SINGH- 1828236"
   ]
  },
  {
   "cell_type": "code",
   "execution_count": 2,
   "metadata": {},
   "outputs": [
    {
     "name": "stdout",
     "output_type": "stream",
     "text": [
      "enter1 for square 2 for cube depend upon your choice: 2\n",
      "enter a number5\n",
      "Cube of given number is  125\n"
     ]
    }
   ],
   "source": [
    "#find the square and cube of a number.\n",
    "\n",
    "import math\n",
    "\n",
    "choice = input('enter1 for square 2 for cube depend upon your choice: ')\n",
    "\n",
    "num = int(input('enter a number'))\n",
    "\n",
    "if choice=='1':\n",
    "    \n",
    "    print('Square of given number is ',num**2)\n",
    "    \n",
    "elif choice=='2':\n",
    "    \n",
    "    print('Cube of given number is ',num*num*num)\n",
    "    \n",
    "else:\n",
    "    \n",
    "    print('Invalid choice')\n"
   ]
  },
  {
   "cell_type": "code",
   "execution_count": 7,
   "metadata": {},
   "outputs": [
    {
     "name": "stdout",
     "output_type": "stream",
     "text": [
      " guessed score :90\n",
      " score you got:78\n",
      "vey close \n",
      "Just left by  12\n",
      "Your grade:\n",
      "A\n"
     ]
    }
   ],
   "source": [
    "#WAP TO MATCH WHETHER YOUR GUESED VALUES ARE SAME AS THAT OF SCORED VALUES AND ALSO FIND THE GRADES OF SCORED VALUES\n",
    "\n",
    "\n",
    "guess=int(input(\" guessed score :\"))\n",
    "\n",
    "actual=int(input(\" score you got:\"))\n",
    "\n",
    "def gue(guess,actual):\n",
    "    \n",
    "    if (guess> actual):\n",
    "        \n",
    "        print(\"vey close \")\n",
    "\n",
    "        print(\"Just left by \",guess-actual)\n",
    "        \n",
    "    elif (guess<actual):\n",
    "        \n",
    "        print(\"Just far \")\n",
    "        \n",
    "        print(\"just far by \",actual-guess)\n",
    "    else:\n",
    "        print(\"guess is equal:\")\n",
    "\n",
    "def estimate(r):\n",
    "    \n",
    "    if r>=90:\n",
    "        print('O')\n",
    "    elif r>=80:\n",
    "        print('E')\n",
    "    elif r>=70:\n",
    "        print('A')\n",
    "    elif r>=60:\n",
    "        print('B')\n",
    "    elif r>=50:\n",
    "        print('C')\n",
    "    elif r>=40:\n",
    "        print('D')\n",
    "    elif r>=30:\n",
    "        print('F')\n",
    "\n",
    "gue(guess,actual)\n",
    "\n",
    "print(\"Your grade:\")\n",
    "\n",
    "estimate(actual)"
   ]
  },
  {
   "cell_type": "code",
   "execution_count": 10,
   "metadata": {},
   "outputs": [
    {
     "name": "stdout",
     "output_type": "stream",
     "text": [
      "enter item:a\n",
      "enter priority associated with that item:1\n",
      "0 to continue and 1 to exit0\n",
      "enter item:b\n",
      "enter priority associated with that item:2\n",
      "0 to continue and 1 to exit0\n",
      "enter item:c\n",
      "enter priority associated with that item:3\n",
      "0 to continue and 1 to exit0\n",
      "enter item:d\n",
      "enter priority associated with that item:4\n",
      "0 to continue and 1 to exit1\n",
      "\n",
      "{1: 'a', 2: 'b', 3: 'c', 4: 'd'}\n",
      "The item of maximum priority:\n",
      "a\n"
     ]
    }
   ],
   "source": [
    "#WAP TO PREPARE A SHOPPING LIST, ATLEAST 10 INPUTS AND TO DISPLAY THE ITEM WHICH HAS MAX PRIORITY\n",
    "\n",
    "\n",
    "d=0    #checking the list.\n",
    "\n",
    "shop={}\n",
    "\n",
    "c={}\n",
    "while(d==0):\n",
    "  a=input(\"enter item:\")\n",
    "  b=int(input(\"enter priority associated with that item:\"))\n",
    "  c={b:a}\n",
    "  shop.update(c)\n",
    "  d=int(input(\"0 to continue and 1 to exit\"))\n",
    "\n",
    "print()\n",
    "print(shop)\n",
    "print(\"The item of maximum priority:\")\n",
    "print(shop[1])"
   ]
  },
  {
   "cell_type": "code",
   "execution_count": 6,
   "metadata": {},
   "outputs": [
    {
     "name": "stdout",
     "output_type": "stream",
     "text": [
      "Enter Radius of the Cylinder: 56\n",
      "Enter Height of the Cylinder: 24\n",
      "The cost of Filling the cylinder is Rs.55565474.93 \n",
      "It takes 16889 minutes to fill the cylinder\n"
     ]
    }
   ],
   "source": [
    "#WAP TO  CALCULATE THE COST OF FILLING A CYLINDER (USER WILL GIVE THE DIMENSION)  @ 235/Cu.m and also the time to fill if it takes 14minutes to fill 1 cu. m\n",
    "\n",
    "import math\n",
    "r=float(input(\"Enter Radius of the Cylinder: \"))\n",
    "\n",
    "h=float(input(\"Enter Height of the Cylinder: \"))\n",
    "\n",
    "volume=math.pi*(r**2)*h\n",
    "\n",
    "volume\n",
    "\n",
    "print(\"The cost of Filling the cylinder is Rs.{v:1.2f} \".format(v=volume*235))\n",
    "\n",
    "print(\"It takes {} minutes to fill the cylinder\".format(int(volume/14)))"
   ]
  },
  {
   "cell_type": "code",
   "execution_count": 11,
   "metadata": {},
   "outputs": [
    {
     "name": "stdout",
     "output_type": "stream",
     "text": [
      "Warning To:\n",
      "\n",
      "y\n"
     ]
    }
   ],
   "source": [
    "#Wap to store a student list with all the details of a student and give warning to students with attendance less than 60\n",
    "\n",
    "\n",
    "dict = {'name':[\"x\", \"\", \"y\", \"z\", \"w\"], \n",
    "        'degree': [\"MBA\", \"BCA\", \"M.Tech\", \"MBA\", \"Business\"], \n",
    "        'attendence':[75, 50, 20, 70,96]} \n",
    "\n",
    "lst=[]\n",
    "\n",
    "for i in range(5):\n",
    "    \n",
    "    if int(dict['attendence'][i])<=60:\n",
    "        lst.append(i)\n",
    "        \n",
    "print(\"Warning To:\")\n",
    "for i in range(len(lst)):\n",
    "    print(dict['name'][lst[i]])"
   ]
  },
  {
   "cell_type": "code",
   "execution_count": null,
   "metadata": {},
   "outputs": [],
   "source": []
  }
 ],
 "metadata": {
  "kernelspec": {
   "display_name": "Python 3",
   "language": "python",
   "name": "python3"
  },
  "language_info": {
   "codemirror_mode": {
    "name": "ipython",
    "version": 3
   },
   "file_extension": ".py",
   "mimetype": "text/x-python",
   "name": "python",
   "nbconvert_exporter": "python",
   "pygments_lexer": "ipython3",
   "version": "3.7.4"
  }
 },
 "nbformat": 4,
 "nbformat_minor": 2
}

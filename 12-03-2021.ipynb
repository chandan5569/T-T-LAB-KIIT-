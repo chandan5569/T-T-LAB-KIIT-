{
 "cells": [
  {
   "cell_type": "markdown",
   "metadata": {},
   "source": [
    "# CHANDAN KUMAR SINGH\n",
    "\n",
    "# 1828236"
   ]
  },
  {
   "cell_type": "code",
   "execution_count": 15,
   "metadata": {},
   "outputs": [
    {
     "name": "stdout",
     "output_type": "stream",
     "text": [
      "   3     2\n",
      "1 x + 2 x + 3 x + 4\n",
      "3\n"
     ]
    }
   ],
   "source": [
    "#WAP to find degree of a polynomial  equation.\n",
    "\n",
    "import numpy as np\n",
    "\n",
    "num = [1,2,3,4]\n",
    "\n",
    "poly = np.poly1d(num)\n",
    "\n",
    "print(poly)\n",
    "\n",
    "\n",
    "deg = poly.order\n",
    "\n",
    "print(deg)"
   ]
  },
  {
   "cell_type": "code",
   "execution_count": 2,
   "metadata": {},
   "outputs": [
    {
     "name": "stdout",
     "output_type": "stream",
     "text": [
      "Enter the number 5\n",
      "120\n"
     ]
    }
   ],
   "source": [
    "#WAP to find factorial of a number.\n",
    "import numpy as np\n",
    "\n",
    "n = int(input(\"Enter the number \"))\n",
    "\n",
    "fact = np.math.factorial(n)\n",
    "\n",
    "print(fact)"
   ]
  },
  {
   "cell_type": "code",
   "execution_count": 3,
   "metadata": {},
   "outputs": [
    {
     "name": "stdout",
     "output_type": "stream",
     "text": [
      "   2\n",
      "1 x + 2 x + 3\n",
      "[-1.+1.41421356j -1.-1.41421356j]\n"
     ]
    }
   ],
   "source": [
    "#WAP to find roots of a Quadratic Equation\n",
    "\n",
    "from math import sqrt\n",
    "\n",
    "\n",
    "coeff = [1,2,3]\n",
    "\n",
    "poly = np.poly1d(coeff)\n",
    "\n",
    "print(poly)\n",
    "\n",
    "roots = np.roots(coeff)\n",
    "\n",
    "print(roots)"
   ]
  },
  {
   "cell_type": "code",
   "execution_count": 17,
   "metadata": {},
   "outputs": [
    {
     "name": "stdout",
     "output_type": "stream",
     "text": [
      "[[1 5 9]]\n"
     ]
    }
   ],
   "source": [
    "#WAP to print diagonal elements of a matrix.\n",
    "\n",
    " \n",
    "mat = np.matrix('[1, 2, 3; 4, 5, 6; 7, 8, 9]') \n",
    "         \n",
    "\n",
    "diag = mat.diagonal() \n",
    "   \n",
    "print(diag)\n"
   ]
  },
  {
   "cell_type": "code",
   "execution_count": 12,
   "metadata": {},
   "outputs": [
    {
     "name": "stdout",
     "output_type": "stream",
     "text": [
      " Actual Product Price: 10000\n",
      " Sales Amount: 12000\n",
      "Total Profit = 2000.0\n"
     ]
    }
   ],
   "source": [
    "#WAP to find profit or loss for a given CP and SP.\n",
    "\n",
    "actual_cost = float(input(\" Actual Product Price: \"))\n",
    "sale_amount = float(input(\" Sales Amount: \"))\n",
    " \n",
    "if(actual_cost > sale_amount):\n",
    "    amount = actual_cost - sale_amount\n",
    "    print(\"Total Loss Amount = {0}\".format(amount))\n",
    "elif(sale_amount > actual_cost):\n",
    "    amount = sale_amount - actual_cost\n",
    "    print(\"Total Profit = {0}\".format(amount))\n",
    "else:\n",
    "    print(\"No Profit No Loss!!!\")"
   ]
  },
  {
   "cell_type": "code",
   "execution_count": 16,
   "metadata": {},
   "outputs": [
    {
     "name": "stdout",
     "output_type": "stream",
     "text": [
      "[[1 4]\n",
      " [1 3]]\n",
      "[[1 3]\n",
      " [1 4]]\n"
     ]
    }
   ],
   "source": [
    "#WAP to sort the matrix row wise and Column wise.\n",
    "\n",
    "\n",
    "\n",
    "a = np.array([[1,4], [3,1]])\n",
    "a.sort(axis=1)\n",
    "\n",
    "print(a)\n",
    "\n",
    "a.sort(axis=0)\n",
    "\n",
    "print(a)"
   ]
  },
  {
   "cell_type": "code",
   "execution_count": null,
   "metadata": {},
   "outputs": [],
   "source": []
  }
 ],
 "metadata": {
  "kernelspec": {
   "display_name": "Python 3",
   "language": "python",
   "name": "python3"
  },
  "language_info": {
   "codemirror_mode": {
    "name": "ipython",
    "version": 3
   },
   "file_extension": ".py",
   "mimetype": "text/x-python",
   "name": "python",
   "nbconvert_exporter": "python",
   "pygments_lexer": "ipython3",
   "version": "3.9.0"
  }
 },
 "nbformat": 4,
 "nbformat_minor": 4
}

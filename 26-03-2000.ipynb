{
 "cells": [
  {
   "cell_type": "code",
   "execution_count": 2,
   "metadata": {},
   "outputs": [
    {
     "name": "stdout",
     "output_type": "stream",
     "text": [
      "cross product of the two vectors(p, q):\n",
      "[ 2 -3]\n",
      "cross product of the two vectors(q, p):\n",
      "[-2  3]\n"
     ]
    }
   ],
   "source": [
    "#Write a NumPy program to compute the cross product of two given vectors.\n",
    "\n",
    "import numpy as np\n",
    "p = [[1, 0], [0, 1]]\n",
    "q = [[1, 2], [3, 4]]\n",
    "\n",
    "\n",
    "r1 = np.cross(p, q)\n",
    "\n",
    "r2 = np.cross(q, p)\n",
    "\n",
    "print(\"cross product of the two vectors(p, q):\")\n",
    "print(r1)\n",
    "print(\"cross product of the two vectors(q, p):\")\n",
    "print(r2)"
   ]
  },
  {
   "cell_type": "code",
   "execution_count": 3,
   "metadata": {},
   "outputs": [
    {
     "name": "stdout",
     "output_type": "stream",
     "text": [
      "Intial array\n",
      "[[1 0]\n",
      " [1 2]]\n",
      "Determinent array:\n",
      "2.0\n"
     ]
    }
   ],
   "source": [
    "#Write a NumPy program to compute the determinant of a given square array.\n",
    "\n",
    "import numpy as np\n",
    "\n",
    "from numpy import linalg as LA\n",
    "\n",
    "a = np.array([[1, 0], [1, 2]])\n",
    "\n",
    "print(\"Intial array\")\n",
    "\n",
    "print(a)\n",
    "\n",
    "print(\"Determinent array:\")\n",
    "\n",
    "print(np.linalg.det(a))"
   ]
  },
  {
   "cell_type": "code",
   "execution_count": 4,
   "metadata": {},
   "outputs": [
    {
     "name": "stdout",
     "output_type": "stream",
     "text": [
      "Original array:\n",
      "[(b'chandan', 5, 48.5 ) (b'A4', 6, 52.5 ) (b'Pihu', 5, 42.1 )\n",
      " (b'Arnab', 5, 40.11)]\n",
      "Sort by height\n",
      "[(b'Arnab', 5, 40.11) (b'Pihu', 5, 42.1 ) (b'chandan', 5, 48.5 )\n",
      " (b'A4', 6, 52.5 )]\n"
     ]
    }
   ],
   "source": [
    "#Write a NumPy program to create a structured array from given student name, height, class and their data types. Now sort the array on height.\n",
    "\n",
    "import numpy as np\n",
    "\n",
    "data_type = [('name', 'S15'), ('class', int), ('height', float)]\n",
    "\n",
    "students_details = [('chandan', 5, 48.5), ('A4', 6, 52.5),('Pihu', 5, 42.10), ('Arnab', 5, 40.11)]\n",
    "\n",
    "\n",
    "students = np.array(students_details, dtype=data_type)  \n",
    "\n",
    "print(\"Original array:\")\n",
    "\n",
    "print(students)\n",
    "\n",
    "print(\"Sort by height\")\n",
    "\n",
    "print(np.sort(students, order='height'))   "
   ]
  },
  {
   "cell_type": "code",
   "execution_count": 5,
   "metadata": {},
   "outputs": [],
   "source": [
    "#Write a NumPy program to get the indices of the sorted elements of a given array.\n",
    "\n"
   ]
  },
  {
   "cell_type": "code",
   "execution_count": null,
   "metadata": {},
   "outputs": [],
   "source": [
    "Write a Pandas program to select the rows where number of attempts in the examination is less than 2 and score greater than 15. \n",
    "Sample Python dictionary data and list labels:\n",
    "exam_data = {'name': ['Anastasia', 'Dima', 'Katherine', 'James', 'Emily', 'Michael', 'Matthew', 'Laura', 'Kevin', 'Jonas'],\n",
    "'score': [12.5, 9, 16.5, np.nan, 9, 20, 14.5, np.nan, 8, 19],\n",
    "'attempts': [1, 3, 2, 3, 2, 3, 1, 1, 2, 1],\n",
    "'qualify': ['yes', 'no', 'yes', 'no', 'no', 'yes', 'yes', 'no', 'no', 'yes']}\n",
    "Priyambada Sahu\n",
    "9:44 AM\n",
    "Write a Pandas program to check whether only lower case or upper case is present in a given column of a DataFrame.\n",
    "\n"
   ]
  }
 ],
 "metadata": {
  "kernelspec": {
   "display_name": "Python 3",
   "language": "python",
   "name": "python3"
  },
  "language_info": {
   "codemirror_mode": {
    "name": "ipython",
    "version": 3
   },
   "file_extension": ".py",
   "mimetype": "text/x-python",
   "name": "python",
   "nbconvert_exporter": "python",
   "pygments_lexer": "ipython3",
   "version": "3.9.0"
  }
 },
 "nbformat": 4,
 "nbformat_minor": 4
}
